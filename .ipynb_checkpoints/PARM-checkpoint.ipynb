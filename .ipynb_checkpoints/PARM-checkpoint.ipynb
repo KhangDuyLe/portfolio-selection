{
 "cells": [
  {
   "cell_type": "markdown",
   "metadata": {},
   "source": [
    "# PARM: PASSIVE AGGRESIVE MEAN REVERSION STRATEGY FOR PORTFOLIO MANAGEMENT"
   ]
  },
  {
   "cell_type": "markdown",
   "metadata": {},
   "source": [
    "1/ online passive aggressive learning technique => exploit the mean reversion property of markets. <br>\n",
    "2/ nicely trade off between portfolio return and volatility risk => reflect the mean reversion trading principle. <br>\n",
    "3/ There are several variants of PARM algorithm, including a mixture algorithm which mixexs PARM abd other strategies <br>\n",
    "4/ There are extensive numerical experiments to evaluate the emperical performance of the proposed algorithms on various datasets. <br>\n",
    "5/  Outperform benchmark and almost all state-of-the-art portfolio selection strategies under various performance metrics <br> \n",
    "6/ PARM run extremely fast and thus is very suitable for real-life online trading application. <br>\n"
   ]
  },
  {
   "cell_type": "markdown",
   "metadata": {},
   "source": [
    "## 1. Introduction"
   ]
  },
  {
   "cell_type": "markdown",
   "metadata": {},
   "source": [
    "## 1.1 What is portfolio selection (PS)"
   ]
  },
  {
   "cell_type": "markdown",
   "metadata": {},
   "source": [
    "PS is a practical financial engineering problem that requires determining a strategy of investing wealth among a set of  assets in order to achieve certain objectives, such as maximizing cumulative wealth or risk-adjusted return, in the long run."
   ]
  },
  {
   "cell_type": "markdown",
   "metadata": {},
   "source": [
    "Traditionally in finance, porfolios are often selected according to mean-variance theory (Markowitz 1952, 1959) to trade off between return and risk."
   ]
  },
  {
   "cell_type": "markdown",
   "metadata": {},
   "source": [
    "Rather than trading with a single stock using computational intelligence tachniques, learning to select portfolio approach focuses on a portfolio, which consists of multiple assets/stocks."
   ]
  },
  {
   "cell_type": "markdown",
   "metadata": {},
   "source": [
    "## 1.2 Previous works"
   ]
  },
  {
   "cell_type": "markdown",
   "metadata": {},
   "source": [
    "Machine learning formulations and effective optimization solutions:\n",
    "+ Kelly 1956; Breiman 1961\n",
    "+ Borodin 2000"
   ]
  },
  {
   "cell_type": "markdown",
   "metadata": {},
   "source": [
    "Despite being studied extensively, most approaches are limited in some aspects or the other."
   ]
  },
  {
   "cell_type": "markdown",
   "metadata": {},
   "source": [
    "## 1.3 Goal"
   ]
  },
  {
   "cell_type": "markdown",
   "metadata": {},
   "source": [
    "Main goal is to investigate a new online portfolio selection strategy that employs online learning techniques to exploit the financial markets."
   ]
  },
  {
   "cell_type": "markdown",
   "metadata": {},
   "source": [
    "## 1.4 Challenge"
   ]
  },
  {
   "cell_type": "markdown",
   "metadata": {},
   "source": [
    "Some existing strategy adopt the trand following approach, that is, they assume that price relative will follow its historical trading days."
   ]
  },
  {
   "cell_type": "markdown",
   "metadata": {},
   "source": [
    "However, this philosophy fails when price relatives do not go in any particular direction, but rather actively move within a range."
   ]
  },
  {
   "cell_type": "markdown",
   "metadata": {},
   "source": [
    "## 1.5 PARM"
   ]
  },
  {
   "cell_type": "markdown",
   "metadata": {},
   "source": [
    "The authors exploit another well-known principle in finance, mean reversion (Jegadeesh 1990), through an online machine learning framework  by online passive aggresive learning ( Crammer et al 2006)."
   ]
  },
  {
   "cell_type": "markdown",
   "metadata": {},
   "source": [
    "PARM's key idea is to formulate a new loss function that can effectively exploit the mean reversion property, then adopt passive aggresive online learning to search for optimal portfolio among the asset pool to maximize the cumulative return."
   ]
  },
  {
   "cell_type": "markdown",
   "metadata": {},
   "source": [
    "PARM either passively keeps last portfolio or aggressively approaches a new portfolio by following mean reversion principle. There are three simple portfolio update rules. The final portfolio update scheme reaches certain trade-offs between portfolio return and volatility risk, and explicitly reflects the mean reversion trading rule."
   ]
  },
  {
   "cell_type": "markdown",
   "metadata": {},
   "source": [
    "<b>Key advantages: </b> highly competitive performance and fairly attractive computation time efficiency. applicable to real-world large scale online applications."
   ]
  },
  {
   "cell_type": "markdown",
   "metadata": {},
   "source": [
    "## 2. Problem setting"
   ]
  },
  {
   "cell_type": "markdown",
   "metadata": {},
   "source": [
    "There are some general assumptions:\n",
    "+ Transaction cost: the authors assume no transaction cost or taxes exists in this portfolio selection model;\n",
    "+ Market liquidity: the authors assume that one can buy and sell required quantities at last closing price of any given trading period;\n",
    "+ Impact cost: The authors assume that market behavior is not affected by a portfolio selection strategy in our study."
   ]
  },
  {
   "cell_type": "markdown",
   "metadata": {},
   "source": [
    "## 3. Related work"
   ]
  },
  {
   "cell_type": "markdown",
   "metadata": {},
   "source": [
    "### 3.1 Benchmark approaches:"
   ]
  },
  {
   "cell_type": "markdown",
   "metadata": {},
   "source": [
    "There are several baselines:\n",
    "+ Buy and Hold strategy (BAH): invest wealth among a pool of assets with an initial portfolio and holds the portfolio all the time.\n",
    "+ Constant Rebalanced Portfolios (CRP): keep a fixed fraction of a investor's wealth in each underlying asset every trading day.\n",
    "+ Best Constant Rebalanced Portfolios (BCRP): "
   ]
  },
  {
   "cell_type": "markdown",
   "metadata": {},
   "source": [
    "### 3.2 Online learning:"
   ]
  },
  {
   "cell_type": "markdown",
   "metadata": {},
   "source": [
    "Rosenblatt 1958; Crammer and Singer 2003; Crammer 2006"
   ]
  },
  {
   "cell_type": "markdown",
   "metadata": {},
   "source": [
    "Perceptron algorithm (Rosenblatt 1958; Frreund and Schapire 1999) updates the learning function by adding a new example with a constant weigth when it is misclassified. Recently a number of online leanring algorithms have been proposed based on the criterion of maximum margin. Passive Aggressive (PA) (Crammer 2006) algorithm updates the classification function when a new example is misclassified or its classification score does not exceed some predefined thresholds. "
   ]
  },
  {
   "cell_type": "markdown",
   "metadata": {},
   "source": [
    "As empirical studies show, the maximum margin based online learning algorithms are generally more effectively than the Perceptron algorithm. <br>\n",
    "=> The author adopt the idea of PA learning (Crammer 2006). <br>\n",
    "http://jmlr.csail.mit.edu/papers/volume7/crammer06a/crammer06a.pdf"
   ]
  },
  {
   "cell_type": "markdown",
   "metadata": {},
   "source": [
    "PA online learning (Crammer et al.2006), which was originally proposed for classification tasks. Loosely speaking, the basic idea of PA for classification is that it passively keeps previous solution if loss is zero, while it aggressively updates the solution whenever the suffering loss is nonzero."
   ]
  },
  {
   "cell_type": "markdown",
   "metadata": {},
   "source": [
    "### 3.3 Learning to select portfolio"
   ]
  },
  {
   "cell_type": "markdown",
   "metadata": {},
   "source": [
    "Learning to select portfolio has been extensively studied in information theory and machine learning."
   ]
  },
  {
   "cell_type": "markdown",
   "metadata": {},
   "source": [
    "The regret of a strategy is defined as the gap between its logarithmic cumulative wealth achieved and that of the optimal strategy."
   ]
  },
  {
   "cell_type": "markdown",
   "metadata": {},
   "source": [
    "#### 3.3.1 Universal Portfolios (UP)"
   ]
  },
  {
   "cell_type": "markdown",
   "metadata": {},
   "source": [
    "Cover (1991) proposed Universal Portfolios (UP) strategy, where the portfolio is historical perfomance weighted average of all constant rebalanced portfolio expert. "
   ]
  },
  {
   "cell_type": "markdown",
   "metadata": {},
   "source": [
    "+ Cover (1991) the regret achieved by UP is )(m logn) and its run time complexity is $O(n^m)$, where m denotes the number of stocks and n denotes the number of trading days.\n",
    "+ Kalai and Vempala (2002) presented a time-eficient implementation of Cover based on non-uniform random walks, which requires running time $O(m^7n^8)$"
   ]
  },
  {
   "cell_type": "markdown",
   "metadata": {},
   "source": [
    "#### 3.3.2 Exponential Gradient (EG)"
   ]
  },
  {
   "cell_type": "markdown",
   "metadata": {},
   "source": [
    "EG strategy (Helmbold et al 1997, 1996) for online portfolio selection using multiplicative updates. In general, EG tries to maximize the expected logarithmic portfolio daily return (approximately using the last price relative), and minimize the deviation between next portfolio and last portfolio."
   ]
  },
  {
   "cell_type": "markdown",
   "metadata": {},
   "source": [
    "Regret: $O(\\sqrt{n log m}$. <br>\n",
    "Running time: $O(mn)$"
   ]
  },
  {
   "cell_type": "markdown",
   "metadata": {},
   "source": [
    "#### 3.3.3 Online Newton Step (ONS)"
   ]
  },
  {
   "cell_type": "markdown",
   "metadata": {},
   "source": [
    "Convex optimization"
   ]
  },
  {
   "cell_type": "markdown",
   "metadata": {},
   "source": [
    "+ ONS (Agarwal et al. 2006) aims to maximize the expected logarithmic cumulative wealth (approximated using historical price relatives) and to minimize the variation of the expected portfolio.  \n",
    "+ ONS exploits the second order information of the log wealth function and applies it to the online scenario. "
   ]
  },
  {
   "cell_type": "markdown",
   "metadata": {},
   "source": [
    "Regret: $O(m log n)$ <br>\n",
    "Running time complexity: $O(m^3n)$"
   ]
  },
  {
   "cell_type": "markdown",
   "metadata": {},
   "source": [
    "#### 3.3.4 Anti-Correlation (anticor)"
   ]
  },
  {
   "cell_type": "markdown",
   "metadata": {},
   "source": [
    "Greedy algorithm"
   ]
  },
  {
   "cell_type": "markdown",
   "metadata": {},
   "source": [
    "This idea was followed by Borodin et al. (2004). Unlike the regret minimization approaches, Anticor motivation is to bet on the consistency of positive lagged cross-correlation and negative autocorrelation. It exploits the statistical information from the historical stock price relatives and adopt the classical mean reversion trading idea to transfer the wealth in the portfolio."
   ]
  },
  {
   "cell_type": "markdown",
   "metadata": {},
   "source": [
    "### 3.4 Analysis of existing work"
   ]
  },
  {
   "cell_type": "markdown",
   "metadata": {},
   "source": [
    "#### 3.4.1 Trend following - momentum strategy"
   ]
  },
  {
   "cell_type": "markdown",
   "metadata": {},
   "source": [
    "+ Assumes that historically better-performing stocks would still perform better than others in future. \n",
    "+ Example algorithms: EG, ONS: approximate the expected logarithmic daily return and logarithmic cumulative return respectively using historical price relatives. => hard to implement effectively.\n",
    "+ <b> In the short-term, the stock price relatives may not follow previous trends as emperically evidenced by Jegadeesh (1990) and Lo and MacKinlay (1990)."
   ]
  },
  {
   "cell_type": "markdown",
   "metadata": {},
   "source": [
    "#### 3.4.2 Mean reversion"
   ]
  },
  {
   "cell_type": "markdown",
   "metadata": {},
   "source": [
    "+ Cover and Gluss 1986; Cover 1991; Borodin et al. 2004\n",
    "+ stems from the CRP strategy (Cover and Gluss 1986), which rebalances to the initial portfolio every trading day. \n",
    "+ Idea: if one stock performs worse than others, it tends to perform better than others in the next trading day. \"Sell the winner, buy the loser\"\n",
    "+ Example algorithms: CRP, UP and Anticor"
   ]
  },
  {
   "cell_type": "markdown",
   "metadata": {},
   "source": [
    "#### 3.4.3 Pattern matching based nonparametric learning algorithm ($B^K and B^{NN})$"
   ]
  },
  {
   "cell_type": "markdown",
   "metadata": {},
   "source": [
    "+ The approaches can identify many market conditions including both mean reversion and trend following.\n",
    "+ However, when locating similar price relatives, the nonparametric learning approaches may locate both mean reversion and tren following price relatives, whose patterns are essentially opposite, thus weakening the maximization of the expected cumulative wealth."
   ]
  },
  {
   "cell_type": "markdown",
   "metadata": {},
   "source": [
    "## 4. PARM"
   ]
  },
  {
   "cell_type": "markdown",
   "metadata": {},
   "source": [
    "### 4.1 Intuition"
   ]
  },
  {
   "cell_type": "markdown",
   "metadata": {},
   "source": [
    "Motivations:\n",
    "+ PARM is motivated by Constant Rebalanced Portfolios (Cover and Gluss 1986). \n",
    "+ The fact that in financial crisis, all stocks drop synchronously or certian stocks drop significantly."
   ]
  },
  {
   "cell_type": "markdown",
   "metadata": {},
   "source": [
    "### 4.2 Formulation"
   ]
  },
  {
   "cell_type": "markdown",
   "metadata": {},
   "source": [
    "$ l_{\\epsilon}(\\mathrm{b};\\mathrm{x_t}) = \\Bigg\\{_{\\mathrm{b.x_t} - \\epsilon \\quad otherwise,}^{0 \\quad \\mathrm{b.x_t} \\leq \\epsilon}$"
   ]
  },
  {
   "cell_type": "markdown",
   "metadata": {},
   "source": [
    "where $\\epsilon \\geq 0$ is the sensitivity parameter which controls the mean reversion threshold. <br>\n",
    "Since typically portfolio daily return fluctuates around 1, the authors often empirically choose $\\epsilon \\leq 1$in order to buy worse performing stock.  "
   ]
  },
  {
   "cell_type": "markdown",
   "metadata": {},
   "source": [
    "#### 4.2.1 Optimization 1 "
   ]
  },
  {
   "cell_type": "markdown",
   "metadata": {},
   "source": [
    "$b_{t+1} = argmin_{b\\in }$"
   ]
  },
  {
   "cell_type": "markdown",
   "metadata": {},
   "source": [
    "#### 4.2.2 Optimization 2"
   ]
  },
  {
   "cell_type": "markdown",
   "metadata": {},
   "source": [
    "Where C is a positive parameter to control the influence of the slack variable term on the objective function."
   ]
  },
  {
   "cell_type": "markdown",
   "metadata": {},
   "source": [
    "#### 4.2.3 Optimization 3 "
   ]
  },
  {
   "cell_type": "markdown",
   "metadata": {},
   "source": [
    "The author modify the objective function of PARM-1 by introducing a slack variable term that scales quadratically with respect to $\\xi$"
   ]
  },
  {
   "cell_type": "code",
   "execution_count": 1,
   "metadata": {},
   "outputs": [],
   "source": [
    "import pandas as pd \n",
    "import numpy as np \n",
    "import scipy.optimize as opt"
   ]
  },
  {
   "cell_type": "code",
   "execution_count": 2,
   "metadata": {},
   "outputs": [],
   "source": [
    "from Algorithms import pamr"
   ]
  },
  {
   "cell_type": "code",
   "execution_count": 3,
   "metadata": {},
   "outputs": [],
   "source": [
    "from Algorithms import olmar\n",
    "from Algorithms import anticor"
   ]
  },
  {
   "cell_type": "code",
   "execution_count": 33,
   "metadata": {},
   "outputs": [
    {
     "name": "stdout",
     "output_type": "stream",
     "text": [
      "0\n",
      "1\n",
      "2\n"
     ]
    }
   ],
   "source": [
    "a0 = pamr.PAMR()\n",
    "a1 = pamr.PAMR(variant=1,eps=0.2)\n",
    "a2 = pamr.PAMR(variant=2,eps=1 )"
   ]
  },
  {
   "cell_type": "code",
   "execution_count": 34,
   "metadata": {},
   "outputs": [],
   "source": [
    "algos = [\n",
    "    a0,\n",
    "    a1,\n",
    "    a2\n",
    "]\n",
    "    "
   ]
  },
  {
   "cell_type": "code",
   "execution_count": 53,
   "metadata": {
    "scrolled": true
   },
   "outputs": [
    {
     "name": "stdout",
     "output_type": "stream",
     "text": [
      "['PAMR', 'PAMR1', 'PAMR2']\n"
     ]
    }
   ],
   "source": [
    "algo_names = ['PAMR', 'PAMR1', 'PAMR2']\n",
    "algo_data = ['algo', 'results', 'profit', 'sharpe', 'information', 'annualized_return', 'drawdown_period','wealth_cumulative']\n",
    "metrics = algo_data[2:]\n",
    "print(algo_names)"
   ]
  },
  {
   "cell_type": "code",
   "execution_count": 54,
   "metadata": {},
   "outputs": [],
   "source": [
    "data = pd.read_pickle(dataInfo[\"nyse_n\"])"
   ]
  },
  {
   "cell_type": "code",
   "execution_count": 55,
   "metadata": {},
   "outputs": [
    {
     "data": {
      "text/html": [
       "<div>\n",
       "<style scoped>\n",
       "    .dataframe tbody tr th:only-of-type {\n",
       "        vertical-align: middle;\n",
       "    }\n",
       "\n",
       "    .dataframe tbody tr th {\n",
       "        vertical-align: top;\n",
       "    }\n",
       "\n",
       "    .dataframe thead th {\n",
       "        text-align: right;\n",
       "    }\n",
       "</style>\n",
       "<table border=\"1\" class=\"dataframe\">\n",
       "  <thead>\n",
       "    <tr style=\"text-align: right;\">\n",
       "      <th></th>\n",
       "      <th>algo</th>\n",
       "      <th>results</th>\n",
       "      <th>profit</th>\n",
       "      <th>sharpe</th>\n",
       "      <th>information</th>\n",
       "      <th>annualized_return</th>\n",
       "      <th>drawdown_period</th>\n",
       "      <th>wealth_cumulative</th>\n",
       "    </tr>\n",
       "  </thead>\n",
       "  <tbody>\n",
       "    <tr>\n",
       "      <th>PAMR</th>\n",
       "      <td>&lt;Algorithms.pamr.PAMR object at 0x11b5b9cc0&gt;</td>\n",
       "      <td>NaN</td>\n",
       "      <td>NaN</td>\n",
       "      <td>NaN</td>\n",
       "      <td>NaN</td>\n",
       "      <td>NaN</td>\n",
       "      <td>NaN</td>\n",
       "      <td>NaN</td>\n",
       "    </tr>\n",
       "    <tr>\n",
       "      <th>PAMR1</th>\n",
       "      <td>&lt;Algorithms.pamr.PAMR object at 0x11b5b92b0&gt;</td>\n",
       "      <td>NaN</td>\n",
       "      <td>NaN</td>\n",
       "      <td>NaN</td>\n",
       "      <td>NaN</td>\n",
       "      <td>NaN</td>\n",
       "      <td>NaN</td>\n",
       "      <td>NaN</td>\n",
       "    </tr>\n",
       "    <tr>\n",
       "      <th>PAMR2</th>\n",
       "      <td>&lt;Algorithms.pamr.PAMR object at 0x11b5b9470&gt;</td>\n",
       "      <td>NaN</td>\n",
       "      <td>NaN</td>\n",
       "      <td>NaN</td>\n",
       "      <td>NaN</td>\n",
       "      <td>NaN</td>\n",
       "      <td>NaN</td>\n",
       "      <td>NaN</td>\n",
       "    </tr>\n",
       "  </tbody>\n",
       "</table>\n",
       "</div>"
      ],
      "text/plain": [
       "                                               algo results profit sharpe  \\\n",
       "PAMR   <Algorithms.pamr.PAMR object at 0x11b5b9cc0>     NaN    NaN    NaN   \n",
       "PAMR1  <Algorithms.pamr.PAMR object at 0x11b5b92b0>     NaN    NaN    NaN   \n",
       "PAMR2  <Algorithms.pamr.PAMR object at 0x11b5b9470>     NaN    NaN    NaN   \n",
       "\n",
       "      information annualized_return drawdown_period wealth_cumulative  \n",
       "PAMR          NaN               NaN             NaN               NaN  \n",
       "PAMR1         NaN               NaN             NaN               NaN  \n",
       "PAMR2         NaN               NaN             NaN               NaN  "
      ]
     },
     "execution_count": 55,
     "metadata": {},
     "output_type": "execute_result"
    }
   ],
   "source": [
    "olps_train = pd.DataFrame(index=algo_names, columns=algo_data)\n",
    "olps_train.algo = algos\n",
    "olps_train"
   ]
  },
  {
   "cell_type": "code",
   "execution_count": 56,
   "metadata": {},
   "outputs": [
    {
     "name": "stdout",
     "output_type": "stream",
     "text": [
      "PAMR 0.5\n"
     ]
    },
    {
     "name": "stderr",
     "output_type": "stream",
     "text": [
      "/Users/khangduy/Master/master_thesis/my_project/Algorithms/pamr.py:43: RuntimeWarning: divide by zero encountered in double_scalars\n",
      "  lam = le / np.linalg.norm(x - x_mean)**2\n",
      "/Library/Frameworks/Python.framework/Versions/3.7/lib/python3.7/site-packages/ipykernel_launcher.py:3: DeprecationWarning: \n",
      ".ix is deprecated. Please use\n",
      ".loc for label based indexing or\n",
      ".iloc for positional indexing\n",
      "\n",
      "See the documentation here:\n",
      "http://pandas.pydata.org/pandas-docs/stable/indexing.html#ix-indexer-is-deprecated\n",
      "  This is separate from the ipykernel package so we can avoid doing imports until\n",
      "/Users/khangduy/Master/master_thesis/my_project/Algorithms/pamr.py:45: RuntimeWarning: divide by zero encountered in double_scalars\n",
      "  lam = min(C, le / np.linalg.norm(x - x_mean)**2)\n"
     ]
    },
    {
     "name": "stdout",
     "output_type": "stream",
     "text": [
      "PAMR1 0.2\n",
      "PAMR2 1\n"
     ]
    }
   ],
   "source": [
    "for name, alg in zip(olps_train.index, olps_train.algo):\n",
    "    print(name, alg.eps)\n",
    "    olps_train.ix[name,'results'] = alg.run(data)"
   ]
  },
  {
   "cell_type": "code",
   "execution_count": 57,
   "metadata": {
    "scrolled": false
   },
   "outputs": [
    {
     "name": "stdout",
     "output_type": "stream",
     "text": [
      "PAMR\n",
      "PAMR1\n",
      "PAMR2\n"
     ]
    },
    {
     "name": "stderr",
     "output_type": "stream",
     "text": [
      "/Library/Frameworks/Python.framework/Versions/3.7/lib/python3.7/site-packages/ipykernel_launcher.py:4: DeprecationWarning: \n",
      ".ix is deprecated. Please use\n",
      ".loc for label based indexing or\n",
      ".iloc for positional indexing\n",
      "\n",
      "See the documentation here:\n",
      "http://pandas.pydata.org/pandas-docs/stable/indexing.html#ix-indexer-is-deprecated\n",
      "  after removing the cwd from sys.path.\n",
      "/Library/Frameworks/Python.framework/Versions/3.7/lib/python3.7/site-packages/ipykernel_launcher.py:5: DeprecationWarning: \n",
      ".ix is deprecated. Please use\n",
      ".loc for label based indexing or\n",
      ".iloc for positional indexing\n",
      "\n",
      "See the documentation here:\n",
      "http://pandas.pydata.org/pandas-docs/stable/indexing.html#ix-indexer-is-deprecated\n",
      "  \"\"\"\n",
      "/Library/Frameworks/Python.framework/Versions/3.7/lib/python3.7/site-packages/ipykernel_launcher.py:7: DeprecationWarning: \n",
      ".ix is deprecated. Please use\n",
      ".loc for label based indexing or\n",
      ".iloc for positional indexing\n",
      "\n",
      "See the documentation here:\n",
      "http://pandas.pydata.org/pandas-docs/stable/indexing.html#ix-indexer-is-deprecated\n",
      "  import sys\n",
      "/Library/Frameworks/Python.framework/Versions/3.7/lib/python3.7/site-packages/ipykernel_launcher.py:8: DeprecationWarning: \n",
      ".ix is deprecated. Please use\n",
      ".loc for label based indexing or\n",
      ".iloc for positional indexing\n",
      "\n",
      "See the documentation here:\n",
      "http://pandas.pydata.org/pandas-docs/stable/indexing.html#ix-indexer-is-deprecated\n",
      "  \n",
      "/Library/Frameworks/Python.framework/Versions/3.7/lib/python3.7/site-packages/ipykernel_launcher.py:10: DeprecationWarning: \n",
      ".ix is deprecated. Please use\n",
      ".loc for label based indexing or\n",
      ".iloc for positional indexing\n",
      "\n",
      "See the documentation here:\n",
      "http://pandas.pydata.org/pandas-docs/stable/indexing.html#ix-indexer-is-deprecated\n",
      "  # Remove the CWD from sys.path while we load stuff.\n",
      "/Library/Frameworks/Python.framework/Versions/3.7/lib/python3.7/site-packages/ipykernel_launcher.py:11: DeprecationWarning: \n",
      ".ix is deprecated. Please use\n",
      ".loc for label based indexing or\n",
      ".iloc for positional indexing\n",
      "\n",
      "See the documentation here:\n",
      "http://pandas.pydata.org/pandas-docs/stable/indexing.html#ix-indexer-is-deprecated\n",
      "  # This is added back by InteractiveShellApp.init_path()\n"
     ]
    },
    {
     "data": {
      "text/html": [
       "<div>\n",
       "<style scoped>\n",
       "    .dataframe tbody tr th:only-of-type {\n",
       "        vertical-align: middle;\n",
       "    }\n",
       "\n",
       "    .dataframe tbody tr th {\n",
       "        vertical-align: top;\n",
       "    }\n",
       "\n",
       "    .dataframe thead th {\n",
       "        text-align: right;\n",
       "    }\n",
       "</style>\n",
       "<table border=\"1\" class=\"dataframe\">\n",
       "  <thead>\n",
       "    <tr style=\"text-align: right;\">\n",
       "      <th></th>\n",
       "      <th>profit</th>\n",
       "      <th>sharpe</th>\n",
       "      <th>information</th>\n",
       "      <th>annualized_return</th>\n",
       "      <th>drawdown_period</th>\n",
       "      <th>wealth_cumulative</th>\n",
       "    </tr>\n",
       "  </thead>\n",
       "  <tbody>\n",
       "    <tr>\n",
       "      <th>PAMR</th>\n",
       "      <td>1.26674</td>\n",
       "      <td>1.14675</td>\n",
       "      <td>NaN</td>\n",
       "      <td>73.5968</td>\n",
       "      <td>588</td>\n",
       "      <td>1.29739e+06</td>\n",
       "    </tr>\n",
       "    <tr>\n",
       "      <th>PAMR1</th>\n",
       "      <td>1.26299</td>\n",
       "      <td>1.12832</td>\n",
       "      <td>NaN</td>\n",
       "      <td>75.1737</td>\n",
       "      <td>522</td>\n",
       "      <td>1.63413e+06</td>\n",
       "    </tr>\n",
       "    <tr>\n",
       "      <th>PAMR2</th>\n",
       "      <td>1.25234</td>\n",
       "      <td>1.20135</td>\n",
       "      <td>NaN</td>\n",
       "      <td>22.546</td>\n",
       "      <td>508</td>\n",
       "      <td>179.218</td>\n",
       "    </tr>\n",
       "  </tbody>\n",
       "</table>\n",
       "</div>"
      ],
      "text/plain": [
       "        profit   sharpe information annualized_return  drawdown_period  \\\n",
       "PAMR   1.26674  1.14675         NaN           73.5968              588   \n",
       "PAMR1  1.26299  1.12832         NaN           75.1737              522   \n",
       "PAMR2  1.25234  1.20135         NaN            22.546              508   \n",
       "\n",
       "      wealth_cumulative  \n",
       "PAMR        1.29739e+06  \n",
       "PAMR1       1.63413e+06  \n",
       "PAMR2           179.218  "
      ]
     },
     "execution_count": 57,
     "metadata": {},
     "output_type": "execute_result"
    }
   ],
   "source": [
    "def olps_stats(df):\n",
    "    for name, r in df.results.iteritems():\n",
    "        print(name)\n",
    "        df.ix[name,'profit'] = r.profit_factor\n",
    "        df.ix[name,'sharpe'] = r.sharpe\n",
    "        # df.ix[name,'information'] = r.information\n",
    "        df.ix[name,'annualized_return'] = r.annualized_return * 100\n",
    "        df.ix[name,'drawdown_period'] = r.drawdown_period\n",
    "        \n",
    "        df.ix[name,'wealth_cumulative'] = r.total_wealth\n",
    "        df.ix[name,'volatility'] = r.volatility\n",
    "        # df.ix[name,'winning_pct'] = r.winning_pct * 100\n",
    "    return df\n",
    "\n",
    "olps_stats(olps_train)\n",
    "olps_train[metrics].sort_values('profit', ascending=False)"
   ]
  },
  {
   "cell_type": "code",
   "execution_count": 50,
   "metadata": {},
   "outputs": [
    {
     "data": {
      "text/plain": [
       "0.2"
      ]
     },
     "execution_count": 50,
     "metadata": {},
     "output_type": "execute_result"
    }
   ],
   "source": [
    "a1.eps"
   ]
  },
  {
   "cell_type": "code",
   "execution_count": 47,
   "metadata": {},
   "outputs": [],
   "source": [
    "res1 = a1.run(data)"
   ]
  },
  {
   "cell_type": "code",
   "execution_count": 48,
   "metadata": {},
   "outputs": [
    {
     "data": {
      "text/plain": [
       "1634131.3251777757"
      ]
     },
     "execution_count": 48,
     "metadata": {},
     "output_type": "execute_result"
    }
   ],
   "source": [
    "res1.total_wealth"
   ]
  },
  {
   "cell_type": "code",
   "execution_count": 46,
   "metadata": {},
   "outputs": [
    {
     "data": {
      "text/plain": [
       "179.21821711462715"
      ]
     },
     "execution_count": 46,
     "metadata": {},
     "output_type": "execute_result"
    }
   ],
   "source": [
    "res2 = a2.run(data)\n",
    "res2.total_wealth"
   ]
  },
  {
   "cell_type": "code",
   "execution_count": 49,
   "metadata": {},
   "outputs": [
    {
     "data": {
      "text/plain": [
       "1297386.0202998219"
      ]
     },
     "execution_count": 49,
     "metadata": {},
     "output_type": "execute_result"
    }
   ],
   "source": [
    "res0 = a0.run(data)\n",
    "res0.total_wealth"
   ]
  },
  {
   "cell_type": "markdown",
   "metadata": {},
   "source": [
    "## 5. Numerical experiments"
   ]
  },
  {
   "cell_type": "markdown",
   "metadata": {},
   "source": [
    "### 5.1 data "
   ]
  },
  {
   "cell_type": "code",
   "execution_count": 6,
   "metadata": {},
   "outputs": [],
   "source": [
    "dataInfo = {\n",
    "        \"nyse_o\":\"./data/nyse_o.pkl\",\n",
    "        \"nyse_n\":\"./data/nyse_n.pkl\",\n",
    "        \"tse\": \"./data/tse.pkl\",\n",
    "        \"sp500\": \"./data/sp500.pkl\",\n",
    "        \"msci\": \"./data/msci.pkl\",\n",
    "        \"djia\": \"./data/djia.pkl\"\n",
    "        }\n",
    "data = {}\n",
    "ret = {}"
   ]
  },
  {
   "cell_type": "code",
   "execution_count": 7,
   "metadata": {},
   "outputs": [
    {
     "name": "stdout",
     "output_type": "stream",
     "text": [
      "['nyse_o', 'nyse_n', 'tse', 'sp500', 'msci', 'djia']\n"
     ]
    }
   ],
   "source": [
    "data_name = [key for key in dataInfo]\n",
    "print(data_name)"
   ]
  },
  {
   "cell_type": "code",
   "execution_count": null,
   "metadata": {},
   "outputs": [],
   "source": [
    "data_name.insert(0,\"name\")\n",
    "data_name"
   ]
  },
  {
   "cell_type": "code",
   "execution_count": null,
   "metadata": {},
   "outputs": [],
   "source": [
    "data = pd.read_pickle(dataInfo[\"nyse_o\"])"
   ]
  },
  {
   "cell_type": "code",
   "execution_count": null,
   "metadata": {},
   "outputs": [],
   "source": [
    "for data_n in data_name:\n",
    "    data = pd.read_pickle(dataInfo[data_n])\n",
    "    print(data.shape)"
   ]
  },
  {
   "cell_type": "markdown",
   "metadata": {},
   "source": [
    "### 5.2 Experimental setup and metrics"
   ]
  },
  {
   "cell_type": "markdown",
   "metadata": {},
   "source": [
    "There are two key parameters in the proposed PARM algorithms. One is the sensitivity parameter $\\epsilon$ and the other is the aggressiveness parameter C"
   ]
  },
  {
   "cell_type": "markdown",
   "metadata": {},
   "source": [
    "<b> The author set the sensitivity $\\epsilon$ to 0.5 in three algorithms and set the aggressiveness parameter C to 500 in both PARM-1 and PARM-2"
   ]
  },
  {
   "cell_type": "markdown",
   "metadata": {},
   "source": [
    "The authors adopt the most common metric, cumulative wealth, to primarily compare different trading strategies. In addition to the cumulative wealth, they also adopt annualized Sharpe Ratio (SR) to compare the performance of different trading algorithms. (The higher the better). <br>\n",
    "Besides, they also adopt Maximum Drawdown (MDD) and Calmar Ratio (CR) for analyzing the downside risk of the PARM strategy. (The lower the better) <br>"
   ]
  },
  {
   "cell_type": "markdown",
   "metadata": {},
   "source": [
    "### 5.4 Experimental results"
   ]
  },
  {
   "cell_type": "markdown",
   "metadata": {},
   "source": [
    "#### 5.4.1 Experiment 1: Evaluation of cumulative wealth"
   ]
  },
  {
   "cell_type": "code",
   "execution_count": null,
   "metadata": {},
   "outputs": [],
   "source": [
    "df = pd.DataFrame(columns=data_name)"
   ]
  },
  {
   "cell_type": "code",
   "execution_count": null,
   "metadata": {
    "scrolled": true
   },
   "outputs": [],
   "source": [
    "res_log = []\n",
    "algo1 = pamr.PAMR()\n",
    "for data_n in data_name:\n",
    "    data = pd.read_pickle(dataInfo[data_n])\n",
    "    res = algo1.run(data)\n",
    "    res_log.append(res.total_wealth/10**15)\n",
    "print(res_log)\n",
    "    \n",
    "    "
   ]
  },
  {
   "cell_type": "markdown",
   "metadata": {},
   "source": [
    "Parm 1"
   ]
  },
  {
   "cell_type": "code",
   "execution_count": null,
   "metadata": {
    "scrolled": true
   },
   "outputs": [],
   "source": [
    "res_log = []\n",
    "algo1 = pamr.PAMR(variant=1)\n",
    "for data_n in data_name:\n",
    "    data = pd.read_pickle(dataInfo[data_n])\n",
    "    res = algo1.run(data)\n",
    "    res_log.append(res.total_wealth)\n",
    "print(res_log)"
   ]
  },
  {
   "cell_type": "code",
   "execution_count": null,
   "metadata": {
    "scrolled": true
   },
   "outputs": [],
   "source": [
    "res_log = []\n",
    "algo1 = pamr.PAMR(variant=2)\n",
    "for data_n in data_name:\n",
    "    data = pd.read_pickle(dataInfo[data_n])\n",
    "    res = algo1.run(data)\n",
    "    res_log.append(res.total_wealth)\n",
    "print(res_log)"
   ]
  },
  {
   "cell_type": "markdown",
   "metadata": {},
   "source": [
    "#### 5.4.1 Experiment 2: Evaluation of risk and risk-adjusted return"
   ]
  },
  {
   "cell_type": "markdown",
   "metadata": {},
   "source": [
    "#### 5.4.1 Experiment 3: dataset sensitivity"
   ]
  },
  {
   "cell_type": "markdown",
   "metadata": {},
   "source": [
    "#### 5.4.1 Experiment 4: parameter sensitivity"
   ]
  },
  {
   "cell_type": "markdown",
   "metadata": {},
   "source": [
    "#### 5.4.1 Experiment 5: evaluation of practical issues"
   ]
  },
  {
   "cell_type": "markdown",
   "metadata": {},
   "source": [
    "#### 5.4.1 Experiment 6: evaluation of computational time cost"
   ]
  },
  {
   "cell_type": "code",
   "execution_count": 60,
   "metadata": {},
   "outputs": [
    {
     "name": "stdout",
     "output_type": "stream",
     "text": [
      "            A        B        C        D        E        F        G        H  \\\n",
      "0     1.01515  1.02765  1.04183  1.02083  1.00637  1.04938  1.00847  1.01983   \n",
      "1     1.01493  1.04036  0.98905  0.99490  1.00475  0.95294  1.00840  1.00833   \n",
      "2     1.00000  0.97629  0.97786  0.99744  0.98583  0.98765  0.99722  0.99449   \n",
      "3     1.02451  1.00662  1.02642  1.00257  1.01917  1.00000  0.99443  1.00693   \n",
      "4     1.03100  0.98465  1.00368  1.00513  1.00313  1.05000  1.02801  1.00413   \n",
      "5     1.00465  1.01559  0.98901  1.01020  1.00625  0.96429  0.99455  0.99863   \n",
      "6     1.00694  0.99781  1.00000  1.00758  1.00932  1.00000  1.00548  0.99863   \n",
      "7     1.00230  0.99780  1.00000  0.98246  0.99538  1.00000  0.99728  0.98764   \n",
      "8     0.97936  0.98458  0.98148  1.01531  1.00155  0.98765  1.02732  1.00626   \n",
      "9     1.01405  0.96644  0.93208  0.96985  0.99383  1.02500  0.97872  0.99240   \n",
      "10    1.00462  1.02083  1.01215  0.98964  0.99224  0.98780  0.97826  0.99721   \n",
      "11    1.00690  0.98866  1.01600  1.00000  1.00939  0.96296  0.97222  1.01955   \n",
      "12    1.01142  1.00688  1.00000  1.01571  1.00620  1.03846  1.01714  1.00274   \n",
      "13    0.99774  0.98861  0.99213  0.98454  1.00462  0.98765  0.98315  0.99932   \n",
      "14    0.97738  0.99078  0.98413  0.99476  0.98773  0.97500  0.97429  1.00205   \n",
      "15    1.01389  0.99070  0.99194  0.98421  1.01863  1.00000  1.02053  1.00409   \n",
      "16    1.00685  1.00939  0.99187  1.01604  1.00610  1.05128  1.00575  1.01223   \n",
      "17    1.00907  1.04186  1.00000  1.04211  1.00758  1.00000  1.00571  1.01477   \n",
      "18    1.05618  1.01563  1.02049  0.98485  1.01053  1.00000  1.00852  1.00661   \n",
      "19    0.99149  1.02418  0.98394  1.00513  1.02083  0.97561  1.01127  1.02102   \n",
      "20    0.98927  1.01288  1.01224  0.98980  0.98251  1.00000  1.00000  0.98842   \n",
      "21    0.99566  1.00212  1.02419  0.99485  1.02077  1.02500  1.00836  0.99479   \n",
      "22    1.00218  1.00423  1.00787  1.00000  1.00581  1.00000  0.98895  1.01047   \n",
      "23    0.99130  0.98947  0.98437  0.98187  0.98266  1.00000  0.98324  0.99482   \n",
      "24    0.97368  0.97234  0.99206  1.00792  0.98824  1.00000  1.00000  1.00260   \n",
      "25    1.00000  1.01969  1.00405  0.99738  0.99702  1.00000  1.00568  1.00000   \n",
      "26    0.98414  1.01931  0.98387  1.00000  0.98806  1.00000  0.97740  1.00260   \n",
      "27    0.99083  1.02105  1.00820  1.00787  1.00604  1.00000  1.00289  1.00259   \n",
      "28    1.00926  1.00000  0.99593  1.01302  0.99399  1.01220  1.01441  1.00775   \n",
      "29    1.02752  1.02763  1.01633  0.98972  1.02417  0.98795  1.01705  1.02051   \n",
      "...       ...      ...      ...      ...      ...      ...      ...      ...   \n",
      "5621  0.98737  0.98264  0.99405  0.99461  0.98619  1.00000  0.97797  0.97895   \n",
      "5622  0.98210  1.00000  1.00000  1.00000  1.00000  1.00000  1.01351  1.00000   \n",
      "5623  1.01302  0.99647  0.98802  1.01084  1.01600  0.97101  1.02222  1.00806   \n",
      "5624  1.02314  1.01773  0.98990  1.00000  0.99803  1.00000  1.00870  1.00267   \n",
      "5625  1.03518  1.02439  1.02245  1.00536  1.00789  0.97761  1.01293  1.00798   \n",
      "5626  0.98786  1.00340  1.00000  0.96533  0.99804  0.99237  1.00000  0.99736   \n",
      "5627  1.00491  1.00678  1.00599  1.00552  0.99906  1.00769  1.00851  1.00000   \n",
      "5628  0.99756  0.99327  0.99603  0.98901  0.99206  1.00763  0.99578  0.98413   \n",
      "5629  0.99265  0.96949  1.00000  1.00000  0.99400  0.98485  0.97881  0.99731   \n",
      "5630  0.98765  0.99301  1.00797  0.99444  0.99598  1.00000  0.99567  1.00270   \n",
      "5631  1.00000  0.99648  0.99802  0.98603  0.99596  1.00000  0.99130  1.00269   \n",
      "5632  1.01500  1.00353  1.00396  1.00850  1.00609  1.00769  1.00000  1.00804   \n",
      "5633  0.99507  0.97183  1.00394  0.99719  0.98992  1.00763  0.98246  0.98936   \n",
      "5634  1.00743  1.00000  1.01768  1.01127  0.99796  1.00758  1.00893  1.00269   \n",
      "5635  1.00000  1.01087  1.00000  1.00557  0.98367  0.99248  0.98230  1.00268   \n",
      "5636  1.00737  1.01792  0.99614  1.00277  1.01037  1.06061  1.00450  1.00267   \n",
      "5637  0.99268  0.99296  0.99419  0.99448  1.00000  0.99286  0.98655  0.99733   \n",
      "5638  1.00000  1.00355  0.99220  1.00278  1.00000  0.98561  1.00455  1.00000   \n",
      "5639  1.00246  0.98940  0.99607  0.97507  1.00205  0.99270  0.98643  0.99198   \n",
      "5640  1.01961  1.00714  1.00000  1.00568  1.01639  1.00000  0.99541  1.00809   \n",
      "5641  0.99519  0.99291  0.99408  1.00000  1.00806  1.01471  1.01843  1.00000   \n",
      "5642  1.01449  1.05714  1.01587  0.99435  1.02200  1.00725  1.03620  1.03476   \n",
      "5643  0.99286  0.99324  1.00977  0.98011  0.99413  1.00719  0.99563  1.00258   \n",
      "5644  1.00000  0.99320  0.99226  1.00000  0.99803  1.00000  1.00000  0.98711   \n",
      "5645  0.97842  1.00000  0.99025  1.00290  0.98225  1.00000  0.99123  1.00000   \n",
      "5646  1.00980  1.01027  1.00394  1.00867  1.00402  1.00000  0.99381  1.00000   \n",
      "5647  1.00000  0.99661  0.99216  1.00000  0.99200  1.00000  0.99548  0.99478   \n",
      "5648  0.99029  0.99660  0.99605  1.00573  0.99798  1.00000  0.99091  1.01050   \n",
      "5649  0.99265  1.00683  1.00000  1.00855  1.00808  1.00514  0.99541  1.01299   \n",
      "5650  0.99753  1.00339  1.01984  0.99718  1.00000  0.99286  1.01382  1.01538   \n",
      "\n",
      "            I        J   ...           [       cc        ]        3        1  \\\n",
      "0     1.05426  0.99751   ...     1.03148  1.03377  1.01018  1.01495  1.00775   \n",
      "1     1.04412  1.00500   ...     1.00898  1.00251  1.01259  1.00000  1.00192   \n",
      "2     0.97183  1.00000   ...     0.98043  0.95990  0.99751  0.97218  0.98656   \n",
      "3     1.00000  1.00000   ...     1.01089  1.03655  1.01247  0.99663  1.00778   \n",
      "4     1.05797  1.01741   ...     1.01077  0.99496  0.99507  0.98649  1.01158   \n",
      "5     0.98630  1.01222   ...     0.99645  1.01266  1.00495  1.00514  1.01908   \n",
      "6     1.06944  1.00242   ...     1.00000  1.00250  0.99015  0.97785  1.00749   \n",
      "7     1.01299  1.00000   ...     0.99465  0.99751  0.99254  0.99303  1.01115   \n",
      "8     1.00000  1.00241   ...     0.99642  1.02500  1.00251  0.98947  0.99265   \n",
      "9     0.96154  0.98558   ...     0.98561  0.96341  0.99000  0.98050  0.99630   \n",
      "10    0.96000  1.00000   ...     0.99088  0.98228  0.97980  0.99096  0.97383   \n",
      "11    0.97222  1.00488   ...     1.00921  0.99742  1.01031  1.01277  0.99808   \n",
      "12    1.02857  1.00243   ...     1.02007  1.01292  1.00510  1.00541  1.03654   \n",
      "13    1.00000  1.00000   ...     1.01252  0.98469  0.98223  1.00000  0.99258   \n",
      "14    0.99306  1.00242   ...     0.99293  0.98705  1.00775  1.00000  0.99439   \n",
      "15    0.95105  1.00242   ...     0.98932  1.01312  1.01026  0.98925  0.99624   \n",
      "16    1.05882  1.00241   ...     1.01079  1.00518  1.00000  1.01812  1.01887   \n",
      "17    0.98611  0.99760   ...     1.00890  1.02062  1.01015  0.98399  1.01481   \n",
      "18    0.98592  1.00482   ...     1.05820  1.02020  1.01256  1.00542  1.01642   \n",
      "19    0.98571  1.00480   ...     0.99500  1.00743  1.00496  1.00360  0.99820   \n",
      "20    1.01449  0.99284   ...     0.99330  0.97789  0.99753  1.00717  0.99460   \n",
      "21    1.00000  1.00721   ...     0.98482  1.02010  0.99500  1.01068  1.01266   \n",
      "22    1.01429  1.00239   ...     1.01370  0.98030  1.00503  1.00176  0.99464   \n",
      "23    1.01408  0.99048   ...     0.97973  0.99246  0.99000  0.99121  0.99461   \n",
      "24    1.02083  0.99519   ...     0.96207  0.98734  1.00000  0.97163  0.98556   \n",
      "25    0.97959  1.00918   ...     1.00000  1.02051  1.00000  1.02190  1.00366   \n",
      "26    0.97222  1.00484   ...     0.98566  0.99497  1.01010  0.98929  0.99088   \n",
      "27    1.02143  1.00000   ...     0.99091  0.99747  1.00750  1.01805  1.00921   \n",
      "28    0.97902  1.00000   ...     0.99450  0.99494  0.99752  1.00000  0.99635   \n",
      "29    0.98571  1.00241   ...     1.00000  1.01527  1.00995  0.99645  1.00916   \n",
      "...       ...      ...   ...         ...      ...      ...      ...      ...   \n",
      "5621  0.99038  0.99145   ...     0.98698  0.97988  0.98276  0.97696  0.97430   \n",
      "5622  0.98544  0.99425   ...     1.00733  1.00472  0.99123  1.00314  1.00659   \n",
      "5623  1.00000  1.01445   ...     1.01747  1.00939  1.00885  1.01254  1.01310   \n",
      "5624  0.99015  1.00000   ...     1.01574  1.00310  1.00439  1.00155  1.00000   \n",
      "5625  0.97512  1.00000   ...     1.01127  1.01700  1.03057  1.02782  1.02802   \n",
      "5626  0.93367  0.98291   ...     0.99304  1.00608  0.97458  0.98346  0.98952   \n",
      "5627  0.98907  1.00870   ...     1.02384  0.99698  1.02174  1.01376  0.99364   \n",
      "5628  1.01105  0.98563   ...     0.98082  0.98485  0.99574  0.97888  0.97868   \n",
      "5629  1.00000  1.00000   ...     0.99581  0.97385  0.99145  0.98613  1.01525   \n",
      "5630  0.95628  1.00875   ...     0.99579  0.98894  0.98707  1.01250  0.99142   \n",
      "5631  0.96000  1.00289   ...     0.99775  1.00160  1.00000  0.99228  1.01082   \n",
      "5632  0.96429  1.00288   ...     1.00997  1.00478  0.99563  0.99844  0.99572   \n",
      "5633  1.00617  0.99425   ...     0.99436  0.99524  0.96491  0.99533  0.99355   \n",
      "5634  0.99387  1.00289   ...     1.00426  0.99043  1.00909  1.00782  1.00000   \n",
      "5635  1.00000  1.00865   ...     0.99859  0.99678  1.00000  0.98292  0.99351   \n",
      "5636  1.03704  1.02286   ...     1.00141  1.00969  1.00000  1.00126  1.01961   \n",
      "5637  1.02381  0.98603   ...     1.00000  1.00320  0.99550  1.00159  1.00214   \n",
      "5638  1.01744  0.99433   ...     1.01130  1.00000  0.97738  0.99522  1.00640   \n",
      "5639  0.99429  0.98291   ...     0.99581  0.99522  0.97222  0.98720  0.98729   \n",
      "5640  1.00000  1.00580   ...     1.00842  1.01122  1.00000  1.00810  1.00429   \n",
      "5641  1.00575  1.00865   ...     1.01113  1.00634  1.00952  1.01447  0.98932   \n",
      "5642  1.00571  1.02571   ...     1.02063  1.01575  1.00000  1.02694  1.01728   \n",
      "5643  0.98295  0.96657   ...     1.00270  0.99225  0.98113  0.99383  0.99363   \n",
      "5644  1.00000  1.01441   ...     0.99194  0.99063  1.00481  0.98602  0.99359   \n",
      "5645  0.98266  0.99716   ...     0.99729  0.99527  1.03828  1.00157  0.97204   \n",
      "5646  1.01176  1.01425   ...     1.01087  1.01109  1.05991  1.00786  1.00000   \n",
      "5647  0.97674  1.00000   ...     0.99462  0.99843  0.97391  0.99376  1.00442   \n",
      "5648  0.95238  0.99719   ...     1.00135  0.99529  1.00000  0.99058  1.00220   \n",
      "5649  1.01875  1.00845   ...     1.00675  0.99685  1.00446  1.01585  0.99780   \n",
      "5650  1.01840  1.00559   ...     1.00804  0.99525  0.96444  1.00624  1.00441   \n",
      "\n",
      "            2        a        b        c        d  \n",
      "0     1.00526  1.01176  1.00578  0.99697  0.99752  \n",
      "1     1.00000  1.01938  1.00958  0.99088  1.00248  \n",
      "2     0.98429  0.97338  1.00000  1.02761  0.99752  \n",
      "3     1.01596  1.00000  1.00190  1.00299  1.02233  \n",
      "4     0.99738  1.01563  1.01515  1.01190  1.00971  \n",
      "5     0.98688  1.01154  0.99067  0.97647  1.00240  \n",
      "6     1.01596  1.02281  1.00377  1.01807  1.00000  \n",
      "7     1.00524  0.95167  1.00000  0.98817  1.01199  \n",
      "8     0.99479  0.99023  1.00000  0.99701  0.98341  \n",
      "9     0.98429  1.00394  1.00188  0.96096  0.99518  \n",
      "10    0.96809  1.00589  0.98876  1.00000  0.99758  \n",
      "11    0.98352  1.00000  0.99811  1.00313  1.00485  \n",
      "12    1.01676  0.98047  1.00569  0.99065  1.00000  \n",
      "13    1.01099  1.01195  1.00189  1.00629  0.99758  \n",
      "14    0.98370  1.00394  0.99435  1.00937  1.00484  \n",
      "15    0.99724  0.97255  0.99242  0.99375  1.00241  \n",
      "16    1.00277  1.01210  1.00954  1.00629  0.99279  \n",
      "17    1.00000  1.01992  1.00567  1.00000  1.00242  \n",
      "18    1.01657  0.96289  1.00564  1.00313  1.00483  \n",
      "19    1.00000  1.03854  1.01495  0.99065  1.01683  \n",
      "20    1.00815  0.99023  0.98343  0.99686  1.00236  \n",
      "21    1.01087  1.00197  0.99438  0.99369  1.00708  \n",
      "22    0.98387  1.00394  1.00188  0.98571  1.00468  \n",
      "23    1.00546  0.99608  1.00564  0.99517  0.99534  \n",
      "24    0.99728  0.99409  0.99439  0.97735  1.00141  \n",
      "25    1.00000  1.00396  1.00000  0.98675  0.98821  \n",
      "26    0.99728  1.00000  1.01504  0.99832  1.00716  \n",
      "27    1.01093  0.99842  1.01111  1.01345  1.00711  \n",
      "28    0.97838  1.00396  1.00183  1.00498  1.00471  \n",
      "29    1.01105  0.99803  1.02011  1.00990  1.00703  \n",
      "...       ...      ...      ...      ...      ...  \n",
      "5621  0.98276  0.98769  0.96800  1.01907  0.99270  \n",
      "5622  0.99415  1.00000  1.00413  0.96667  0.99632  \n",
      "5623  1.00294  1.00312  1.03704  1.00000  1.01476  \n",
      "5624  0.99707  0.99068  1.00794  0.99138  1.00000  \n",
      "5625  1.00000  1.02194  1.02362  0.99565  0.99636  \n",
      "5626  0.98824  0.95706  1.00200  1.00437  0.97080  \n",
      "5627  0.98810  0.98718  1.00778  0.97826  1.00752  \n",
      "5628  1.00301  1.00000  0.97683  1.00889  0.98881  \n",
      "5629  0.99700  1.00000  0.98419  0.97797  1.01887  \n",
      "5630  0.96988  1.00000  1.00000  1.00901  1.01111  \n",
      "5631  0.99689  1.00000  0.98795  0.99107  0.99267  \n",
      "5632  1.00935  1.01623  1.00407  1.00000  0.99262  \n",
      "5633  1.01852  0.99361  0.97976  0.96396  0.99628  \n",
      "5634  1.01818  0.99035  1.00413  0.99065  1.00373  \n",
      "5635  1.01488  0.99675  0.98765  1.01887  1.00000  \n",
      "5636  1.00000  1.00977  1.03750  0.99074  1.00372  \n",
      "5637  1.00293  0.99677  1.01205  1.00467  0.99630  \n",
      "5638  0.99123  0.97735  0.99603  1.00000  0.99628  \n",
      "5639  1.00590  0.99007  0.97211  0.99535  0.99627  \n",
      "5640  1.01466  1.00000  1.00820  0.97664  1.00000  \n",
      "5641  1.00578  0.98328  1.02439  0.99522  1.01498  \n",
      "5642  1.03448  1.03197  1.02778  1.04808  1.01107  \n",
      "5643  0.97222  0.95681  0.98456  0.99541  0.98175  \n",
      "5644  0.97429  1.04514  0.99608  0.99078  1.00000  \n",
      "5645  0.96188  1.00000  0.99606  0.99535  0.99628  \n",
      "5646  1.03659  1.00000  1.01186  1.00935  1.01866  \n",
      "5647  1.00882  0.98339  0.99609  1.00463  1.00733  \n",
      "5648  1.00875  1.00000  0.99216  1.00461  0.99273  \n",
      "5649  1.00289  1.01351  0.99209  1.02752  1.00366  \n",
      "5650  1.02594  1.01667  1.01195  1.00000  0.99635  \n",
      "\n",
      "[5651 rows x 36 columns]\n"
     ]
    },
    {
     "ename": "ModuleNotFoundError",
     "evalue": "No module named 'pandas.plotting._timeseries'",
     "output_type": "error",
     "traceback": [
      "\u001b[0;31m---------------------------------------------------------------------------\u001b[0m",
      "\u001b[0;31mModuleNotFoundError\u001b[0m                       Traceback (most recent call last)",
      "\u001b[0;32m<ipython-input-60-d72ffa0f8eb6>\u001b[0m in \u001b[0;36m<module>\u001b[0;34m\u001b[0m\n\u001b[1;32m     11\u001b[0m        ']', '3', '1', '2', 'a', 'b', 'c', 'd']\n\u001b[1;32m     12\u001b[0m \u001b[0mprint\u001b[0m\u001b[0;34m(\u001b[0m\u001b[0mX\u001b[0m\u001b[0;34m)\u001b[0m\u001b[0;34m\u001b[0m\u001b[0;34m\u001b[0m\u001b[0m\n\u001b[0;32m---> 13\u001b[0;31m \u001b[0mX\u001b[0m\u001b[0;34m.\u001b[0m\u001b[0mplot\u001b[0m\u001b[0;34m(\u001b[0m\u001b[0;34m)\u001b[0m\u001b[0;34m\u001b[0m\u001b[0;34m\u001b[0m\u001b[0m\n\u001b[0m",
      "\u001b[0;32m/Library/Frameworks/Python.framework/Versions/3.7/lib/python3.7/site-packages/pandas/plotting/_core.py\u001b[0m in \u001b[0;36m__call__\u001b[0;34m(self, x, y, kind, ax, subplots, sharex, sharey, layout, figsize, use_index, title, grid, legend, style, logx, logy, loglog, xticks, yticks, xlim, ylim, rot, fontsize, colormap, table, yerr, xerr, secondary_y, sort_columns, **kwds)\u001b[0m\n",
      "\u001b[0;32m/Library/Frameworks/Python.framework/Versions/3.7/lib/python3.7/site-packages/pandas/plotting/_core.py\u001b[0m in \u001b[0;36mplot_frame\u001b[0;34m(data, x, y, kind, ax, subplots, sharex, sharey, layout, figsize, use_index, title, grid, legend, style, logx, logy, loglog, xticks, yticks, xlim, ylim, rot, fontsize, colormap, table, yerr, xerr, secondary_y, sort_columns, **kwds)\u001b[0m\n",
      "\u001b[0;32m/Library/Frameworks/Python.framework/Versions/3.7/lib/python3.7/site-packages/pandas/plotting/_core.py\u001b[0m in \u001b[0;36m_plot\u001b[0;34m(data, x, y, subplots, ax, kind, **kwds)\u001b[0m\n",
      "\u001b[0;32m/Library/Frameworks/Python.framework/Versions/3.7/lib/python3.7/site-packages/pandas/plotting/_core.py\u001b[0m in \u001b[0;36mgenerate\u001b[0;34m(self)\u001b[0m\n\u001b[1;32m    258\u001b[0m           \u001b[0mLines\u001b[0m \u001b[0mof\u001b[0m \u001b[0mthe\u001b[0m \u001b[0mboxplot\u001b[0m\u001b[0;34m.\u001b[0m\u001b[0;34m\u001b[0m\u001b[0;34m\u001b[0m\u001b[0m\n\u001b[1;32m    259\u001b[0m         \u001b[0;34m*\u001b[0m \u001b[0;34m'both'\u001b[0m \u001b[0mreturns\u001b[0m \u001b[0ma\u001b[0m \u001b[0mnamedtuple\u001b[0m \u001b[0;32mwith\u001b[0m \u001b[0mthe\u001b[0m \u001b[0maxes\u001b[0m \u001b[0;32mand\u001b[0m \u001b[0mdict\u001b[0m\u001b[0;34m.\u001b[0m\u001b[0;34m\u001b[0m\u001b[0;34m\u001b[0m\u001b[0m\n\u001b[0;32m--> 260\u001b[0;31m         \u001b[0;34m*\u001b[0m \u001b[0mwhen\u001b[0m \u001b[0mgrouping\u001b[0m \u001b[0;32mwith\u001b[0m\u001b[0;31m \u001b[0m\u001b[0;31m`\u001b[0m\u001b[0;31m`\u001b[0m\u001b[0mby\u001b[0m\u001b[0;31m`\u001b[0m\u001b[0;31m`\u001b[0m\u001b[0;34m,\u001b[0m \u001b[0ma\u001b[0m \u001b[0mSeries\u001b[0m \u001b[0mmapping\u001b[0m \u001b[0mcolumns\u001b[0m \u001b[0mto\u001b[0m\u001b[0;34m\u001b[0m\u001b[0;34m\u001b[0m\u001b[0m\n\u001b[0m\u001b[1;32m    261\u001b[0m           \u001b[0;31m`\u001b[0m\u001b[0;31m`\u001b[0m\u001b[0mreturn_type\u001b[0m\u001b[0;31m`\u001b[0m\u001b[0;31m`\u001b[0m \u001b[0;32mis\u001b[0m \u001b[0mreturned\u001b[0m\u001b[0;34m.\u001b[0m\u001b[0;34m\u001b[0m\u001b[0;34m\u001b[0m\u001b[0m\n\u001b[1;32m    262\u001b[0m \u001b[0;34m\u001b[0m\u001b[0m\n",
      "\u001b[0;32m/Library/Frameworks/Python.framework/Versions/3.7/lib/python3.7/site-packages/pandas/plotting/_core.py\u001b[0m in \u001b[0;36m_make_plot\u001b[0;34m(self)\u001b[0m\n\u001b[1;32m    953\u001b[0m \u001b[0;34m\u001b[0m\u001b[0m\n\u001b[1;32m    954\u001b[0m         \u001b[0mA\u001b[0m \u001b[0mhorizontal\u001b[0m \u001b[0mbar\u001b[0m \u001b[0mplot\u001b[0m \u001b[0;32mis\u001b[0m \u001b[0ma\u001b[0m \u001b[0mplot\u001b[0m \u001b[0mthat\u001b[0m \u001b[0mpresents\u001b[0m \u001b[0mquantitative\u001b[0m \u001b[0mdata\u001b[0m \u001b[0;32mwith\u001b[0m\u001b[0;34m\u001b[0m\u001b[0;34m\u001b[0m\u001b[0m\n\u001b[0;32m--> 955\u001b[0;31m         \u001b[0mrectangular\u001b[0m \u001b[0mbars\u001b[0m \u001b[0;32mwith\u001b[0m \u001b[0mlengths\u001b[0m \u001b[0mproportional\u001b[0m \u001b[0mto\u001b[0m \u001b[0mthe\u001b[0m \u001b[0mvalues\u001b[0m \u001b[0mthat\u001b[0m \u001b[0mthey\u001b[0m\u001b[0;34m\u001b[0m\u001b[0;34m\u001b[0m\u001b[0m\n\u001b[0m\u001b[1;32m    956\u001b[0m         \u001b[0mrepresent\u001b[0m\u001b[0;34m.\u001b[0m \u001b[0mA\u001b[0m \u001b[0mbar\u001b[0m \u001b[0mplot\u001b[0m \u001b[0mshows\u001b[0m \u001b[0mcomparisons\u001b[0m \u001b[0mamong\u001b[0m \u001b[0mdiscrete\u001b[0m \u001b[0mcategories\u001b[0m\u001b[0;34m.\u001b[0m \u001b[0mOne\u001b[0m\u001b[0;34m\u001b[0m\u001b[0;34m\u001b[0m\u001b[0m\n\u001b[1;32m    957\u001b[0m         \u001b[0maxis\u001b[0m \u001b[0mof\u001b[0m \u001b[0mthe\u001b[0m \u001b[0mplot\u001b[0m \u001b[0mshows\u001b[0m \u001b[0mthe\u001b[0m \u001b[0mspecific\u001b[0m \u001b[0mcategories\u001b[0m \u001b[0mbeing\u001b[0m \u001b[0mcompared\u001b[0m\u001b[0;34m,\u001b[0m \u001b[0;32mand\u001b[0m \u001b[0mthe\u001b[0m\u001b[0;34m\u001b[0m\u001b[0;34m\u001b[0m\u001b[0m\n",
      "\u001b[0;32m/Library/Frameworks/Python.framework/Versions/3.7/lib/python3.7/site-packages/pandas/plotting/_core.py\u001b[0m in \u001b[0;36m_is_ts_plot\u001b[0;34m(self)\u001b[0m\n\u001b[1;32m    946\u001b[0m             \u001b[0;34m>>\u001b[0m\u001b[0;34m>\u001b[0m \u001b[0max\u001b[0m \u001b[0;34m=\u001b[0m \u001b[0mdf\u001b[0m\u001b[0;34m.\u001b[0m\u001b[0mplot\u001b[0m\u001b[0;34m.\u001b[0m\u001b[0mbar\u001b[0m\u001b[0;34m(\u001b[0m\u001b[0mx\u001b[0m\u001b[0;34m=\u001b[0m\u001b[0;34m'lifespan'\u001b[0m\u001b[0;34m,\u001b[0m \u001b[0mrot\u001b[0m\u001b[0;34m=\u001b[0m\u001b[0;36m0\u001b[0m\u001b[0;34m)\u001b[0m\u001b[0;34m\u001b[0m\u001b[0;34m\u001b[0m\u001b[0m\n\u001b[1;32m    947\u001b[0m         \"\"\"\n\u001b[0;32m--> 948\u001b[0;31m         \u001b[0;32mreturn\u001b[0m \u001b[0mself\u001b[0m\u001b[0;34m(\u001b[0m\u001b[0mkind\u001b[0m\u001b[0;34m=\u001b[0m\u001b[0;34m\"bar\"\u001b[0m\u001b[0;34m,\u001b[0m \u001b[0mx\u001b[0m\u001b[0;34m=\u001b[0m\u001b[0mx\u001b[0m\u001b[0;34m,\u001b[0m \u001b[0my\u001b[0m\u001b[0;34m=\u001b[0m\u001b[0my\u001b[0m\u001b[0;34m,\u001b[0m \u001b[0;34m**\u001b[0m\u001b[0mkwargs\u001b[0m\u001b[0;34m)\u001b[0m\u001b[0;34m\u001b[0m\u001b[0;34m\u001b[0m\u001b[0m\n\u001b[0m\u001b[1;32m    949\u001b[0m \u001b[0;34m\u001b[0m\u001b[0m\n\u001b[1;32m    950\u001b[0m     \u001b[0;32mdef\u001b[0m \u001b[0mbarh\u001b[0m\u001b[0;34m(\u001b[0m\u001b[0mself\u001b[0m\u001b[0;34m,\u001b[0m \u001b[0mx\u001b[0m\u001b[0;34m=\u001b[0m\u001b[0;32mNone\u001b[0m\u001b[0;34m,\u001b[0m \u001b[0my\u001b[0m\u001b[0;34m=\u001b[0m\u001b[0;32mNone\u001b[0m\u001b[0;34m,\u001b[0m \u001b[0;34m**\u001b[0m\u001b[0mkwargs\u001b[0m\u001b[0;34m)\u001b[0m\u001b[0;34m:\u001b[0m\u001b[0;34m\u001b[0m\u001b[0;34m\u001b[0m\u001b[0m\n",
      "\u001b[0;32m/Library/Frameworks/Python.framework/Versions/3.7/lib/python3.7/site-packages/pandas/plotting/_core.py\u001b[0m in \u001b[0;36m_use_dynamic_x\u001b[0;34m(self)\u001b[0m\n\u001b[1;32m    949\u001b[0m \u001b[0;34m\u001b[0m\u001b[0m\n\u001b[1;32m    950\u001b[0m     \u001b[0;32mdef\u001b[0m \u001b[0mbarh\u001b[0m\u001b[0;34m(\u001b[0m\u001b[0mself\u001b[0m\u001b[0;34m,\u001b[0m \u001b[0mx\u001b[0m\u001b[0;34m=\u001b[0m\u001b[0;32mNone\u001b[0m\u001b[0;34m,\u001b[0m \u001b[0my\u001b[0m\u001b[0;34m=\u001b[0m\u001b[0;32mNone\u001b[0m\u001b[0;34m,\u001b[0m \u001b[0;34m**\u001b[0m\u001b[0mkwargs\u001b[0m\u001b[0;34m)\u001b[0m\u001b[0;34m:\u001b[0m\u001b[0;34m\u001b[0m\u001b[0;34m\u001b[0m\u001b[0m\n\u001b[0;32m--> 951\u001b[0;31m         \"\"\"\n\u001b[0m\u001b[1;32m    952\u001b[0m         \u001b[0mMake\u001b[0m \u001b[0ma\u001b[0m \u001b[0mhorizontal\u001b[0m \u001b[0mbar\u001b[0m \u001b[0mplot\u001b[0m\u001b[0;34m.\u001b[0m\u001b[0;34m\u001b[0m\u001b[0;34m\u001b[0m\u001b[0m\n\u001b[1;32m    953\u001b[0m \u001b[0;34m\u001b[0m\u001b[0m\n",
      "\u001b[0;31mModuleNotFoundError\u001b[0m: No module named 'pandas.plotting._timeseries'"
     ]
    },
    {
     "data": {
      "image/png": "[encoded data removed]",
      "text/plain": [
       "<Figure size 432x288 with 1 Axes>"
      ]
     },
     "metadata": {
      "needs_background": "light"
     },
     "output_type": "display_data"
    }
   ],
   "source": [
    "\n",
    "\n",
    "import pandas as pd\n",
    "data = pd.read_pickle(\"./data/nyse_o.pkl\")\n",
    "S =data \n",
    "X = S / S.shift(1).fillna(method='ffill')\n",
    "X.iloc[0,:] = S.iloc[0,:]\n",
    "# print(X.columns)\n",
    "X.columns = ['A', 'B', 'C', 'D', 'E', 'F', 'G', 'H', 'I', 'J', 'K', 'L', 'M', 'N',  \n",
    "       'O', 'P', 'Q', 'R', 'S', 'T', 'U', 'V', 'W', 'X', 'Y', 'Z', '[', 'cc',\n",
    "       ']', '3', '1', '2', 'a', 'b', 'c', 'd']\n",
    "print(X)\n",
    "X.plot()\n"
   ]
  },
  {
   "cell_type": "code",
   "execution_count": 66,
   "metadata": {},
   "outputs": [],
   "source": [
    "data.columns = X.columns"
   ]
  },
  {
   "cell_type": "code",
   "execution_count": 64,
   "metadata": {},
   "outputs": [],
   "source": [
    "import matplotlib.pyplot as plt"
   ]
  },
  {
   "cell_type": "code",
   "execution_count": 70,
   "metadata": {},
   "outputs": [
    {
     "data": {
      "image/png": "[encoded data removed]",
      "text/plain": [
       "<Figure size 432x288 with 1 Axes>"
      ]
     },
     "metadata": {
      "needs_background": "light"
     },
     "output_type": "display_data"
    }
   ],
   "source": [
    "for col in X.columns:\n",
    "    plt.plot(data[col], label=col)\n",
    "plt.legend()\n",
    "plt.show()"
   ]
  },
  {
   "cell_type": "code",
   "execution_count": null,
   "metadata": {},
   "outputs": [],
   "source": []
  }
 ],
 "metadata": {
  "kernelspec": {
   "display_name": "Python 3",
   "language": "python",
   "name": "python3"
  },
  "language_info": {
   "codemirror_mode": {
    "name": "ipython",
    "version": 3
   },
   "file_extension": ".py",
   "mimetype": "text/x-python",
   "name": "python",
   "nbconvert_exporter": "python",
   "pygments_lexer": "ipython3",
   "version": "3.7.1"
  }
 },
 "nbformat": 4,
 "nbformat_minor": 2
}
