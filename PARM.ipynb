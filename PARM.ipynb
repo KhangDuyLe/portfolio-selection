{
 "cells": [
  {
   "cell_type": "markdown",
   "metadata": {},
   "source": [
    "# PARM: PASSIVE AGGRESIVE MEAN REVERSION STRATEGY FOR PORTFOLIO MANAGEMENT"
   ]
  },
  {
   "cell_type": "markdown",
   "metadata": {},
   "source": [
    "1/ online passive aggressive learning technique => exploit the mean reversion property of markets. <br>\n",
    "2/ nicely trade off between portfolio return and volatility risk => reflect the mean reversion trading principle. <br>\n",
    "3/ There are several variants of PARM algorithm, including a mixture algorithm which mixexs PARM abd other strategies <br>\n",
    "4/ There are extensive numerical experiments to evaluate the emperical performance of the proposed algorithms on various datasets. <br>\n",
    "5/  Outperform benchmark and almost all state-of-the-art portfolio selection strategies under various performance metrics <br> \n",
    "6/ PARM run extremely fast and thus is very suitable for real-life online trading application. <br>\n"
   ]
  },
  {
   "cell_type": "markdown",
   "metadata": {},
   "source": [
    "## 1. Introduction"
   ]
  },
  {
   "cell_type": "markdown",
   "metadata": {},
   "source": [
    "## 1.1 What is portfolio selection (PS)"
   ]
  },
  {
   "cell_type": "markdown",
   "metadata": {},
   "source": [
    "PS is a practical financial engineering problem that requires determining a strategy of investing wealth among a set of  assets in order to achieve certain objectives, such as maximizing cumulative wealth or risk-adjusted return, in the long run."
   ]
  },
  {
   "cell_type": "markdown",
   "metadata": {},
   "source": [
    "Traditionally in finance, porfolios are often selected according to mean-variance theory (Markowitz 1952, 1959) to trade off between return and risk."
   ]
  },
  {
   "cell_type": "markdown",
   "metadata": {},
   "source": [
    "Rather than trading with a single stock using computational intelligence tachniques, learning to select portfolio approach focuses on a portfolio, which consists of multiple assets/stocks."
   ]
  },
  {
   "cell_type": "markdown",
   "metadata": {},
   "source": [
    "## 1.2 Previous works"
   ]
  },
  {
   "cell_type": "markdown",
   "metadata": {},
   "source": [
    "Machine learning formulations and effective optimization solutions:\n",
    "+ Kelly 1956; Breiman 1961\n",
    "+ Borodin 2000"
   ]
  },
  {
   "cell_type": "markdown",
   "metadata": {},
   "source": [
    "Despite being studied extensively, most approaches are limited in some aspects or the other."
   ]
  },
  {
   "cell_type": "markdown",
   "metadata": {},
   "source": [
    "## 1.3 Goal"
   ]
  },
  {
   "cell_type": "markdown",
   "metadata": {},
   "source": [
    "Main goal is to investigate a new online portfolio selection strategy that employs online learning techniques to exploit the financial markets."
   ]
  },
  {
   "cell_type": "markdown",
   "metadata": {},
   "source": [
    "## 1.4 Challenge"
   ]
  },
  {
   "cell_type": "markdown",
   "metadata": {},
   "source": [
    "Some existing strategy adopt the trand following approach, that is, they assume that price relative will follow its historical trading days."
   ]
  },
  {
   "cell_type": "markdown",
   "metadata": {},
   "source": [
    "However, this philosophy fails when price relatives do not go in any particular direction, but rather actively move within a range."
   ]
  },
  {
   "cell_type": "markdown",
   "metadata": {},
   "source": [
    "## 1.5 PARM"
   ]
  },
  {
   "cell_type": "markdown",
   "metadata": {},
   "source": [
    "The authors exploit another well-known principle in finance, mean reversion (Jegadeesh 1990), through an online machine learning framework  by online passive aggresive learning ( Crammer et al 2006)."
   ]
  },
  {
   "cell_type": "markdown",
   "metadata": {},
   "source": [
    "PARM's key idea is to formulate a new loss function that can effectively exploit the mean reversion property, then adopt passive aggresive online learning to search for optimal portfolio among the asset pool to maximize the cumulative return."
   ]
  },
  {
   "cell_type": "markdown",
   "metadata": {},
   "source": [
    "PARM either passively keeps last portfolio or aggressively approaches a new portfolio by following mean reversion principle. There are three simple portfolio update rules. The final portfolio update scheme reaches certain trade-offs between portfolio return and volatility risk, and explicitly reflects the mean reversion trading rule."
   ]
  },
  {
   "cell_type": "markdown",
   "metadata": {},
   "source": [
    "<b>Key advantages: </b> highly competitive performance and fairly attractive computation time efficiency. applicable to real-world large scale online applications."
   ]
  },
  {
   "cell_type": "markdown",
   "metadata": {},
   "source": [
    "## 2. Problem setting"
   ]
  },
  {
   "cell_type": "markdown",
   "metadata": {},
   "source": [
    "There are some general assumptions:\n",
    "+ Transaction cost: the authors assume no transaction cost or taxes exists in this portfolio selection model;\n",
    "+ Market liquidity: the authors assume that one can buy and sell required quantities at last closing price of any given trading period;\n",
    "+ Impact cost: The authors assume that market behavior is not affected by a portfolio selection strategy in our study."
   ]
  },
  {
   "cell_type": "markdown",
   "metadata": {},
   "source": [
    "## 3. Related work"
   ]
  },
  {
   "cell_type": "markdown",
   "metadata": {},
   "source": [
    "### 3.1 Benchmark approaches:"
   ]
  },
  {
   "cell_type": "markdown",
   "metadata": {},
   "source": [
    "There are several baselines:\n",
    "+ Buy and Hold strategy (BAH): invest wealth among a pool of assets with an initial portfolio and holds the portfolio all the time.\n",
    "+ Constant Rebalanced Portfolios (CRP): keep a fixed fraction of a investor's wealth in each underlying asset every trading day.\n",
    "+ Best Constant Rebalanced Portfolios (BCRP): "
   ]
  },
  {
   "cell_type": "markdown",
   "metadata": {},
   "source": [
    "### 3.2 Online learning:"
   ]
  },
  {
   "cell_type": "markdown",
   "metadata": {},
   "source": [
    "Rosenblatt 1958; Crammer and Singer 2003; Crammer 2006"
   ]
  },
  {
   "cell_type": "markdown",
   "metadata": {},
   "source": [
    "Perceptron algorithm (Rosenblatt 1958; Frreund and Schapire 1999) updates the learning function by adding a new example with a constant weigth when it is misclassified. Recently a number of online leanring algorithms have been proposed based on the criterion of maximum margin. Passive Aggressive (PA) (Crammer 2006) algorithm updates the classification function when a new example is misclassified or its classification score does not exceed some predefined thresholds. "
   ]
  },
  {
   "cell_type": "markdown",
   "metadata": {},
   "source": [
    "As empirical studies show, the maximum margin based online learning algorithms are generally more effectively than the Perceptron algorithm. <br>\n",
    "=> The author adopt the idea of PA learning (Crammer 2006). <br>\n",
    "http://jmlr.csail.mit.edu/papers/volume7/crammer06a/crammer06a.pdf"
   ]
  },
  {
   "cell_type": "markdown",
   "metadata": {},
   "source": [
    "PA online learning (Crammer et al.2006), which was originally proposed for classification tasks. Loosely speaking, the basic idea of PA for classification is that it passively keeps previous solution if loss is zero, while it aggressively updates the solution whenever the suffering loss is nonzero."
   ]
  },
  {
   "cell_type": "markdown",
   "metadata": {},
   "source": [
    "### 3.3 Learning to select portfolio"
   ]
  },
  {
   "cell_type": "markdown",
   "metadata": {},
   "source": [
    "Learning to select portfolio has been extensively studied in information theory and machine learning."
   ]
  },
  {
   "cell_type": "markdown",
   "metadata": {},
   "source": [
    "The regret of a strategy is defined as the gap between its logarithmic cumulative wealth achieved and that of the optimal strategy."
   ]
  },
  {
   "cell_type": "markdown",
   "metadata": {},
   "source": [
    "#### 3.3.1 Universal Portfolios (UP)"
   ]
  },
  {
   "cell_type": "markdown",
   "metadata": {},
   "source": [
    "Cover (1991) proposed Universal Portfolios (UP) strategy, where the portfolio is historical perfomance weighted average of all constant rebalanced portfolio expert. "
   ]
  },
  {
   "cell_type": "markdown",
   "metadata": {},
   "source": [
    "+ Cover (1991) the regret achieved by UP is )(m logn) and its run time complexity is $O(n^m)$, where m denotes the number of stocks and n denotes the number of trading days.\n",
    "+ Kalai and Vempala (2002) presented a time-eficient implementation of Cover based on non-uniform random walks, which requires running time $O(m^7n^8)$"
   ]
  },
  {
   "cell_type": "markdown",
   "metadata": {},
   "source": [
    "#### 3.3.2 Exponential Gradient (EG)"
   ]
  },
  {
   "cell_type": "markdown",
   "metadata": {},
   "source": [
    "EG strategy (Helmbold et al 1997, 1996) for online portfolio selection using multiplicative updates. In general, EG tries to maximize the expected logarithmic portfolio daily return (approximately using the last price relative), and minimize the deviation between next portfolio and last portfolio."
   ]
  },
  {
   "cell_type": "markdown",
   "metadata": {},
   "source": [
    "Regret: $O(\\sqrt{n log m}$. <br>\n",
    "Running time: $O(mn)$"
   ]
  },
  {
   "cell_type": "markdown",
   "metadata": {},
   "source": [
    "#### 3.3.3 Online Newton Step (ONS)"
   ]
  },
  {
   "cell_type": "markdown",
   "metadata": {},
   "source": [
    "Convex optimization"
   ]
  },
  {
   "cell_type": "markdown",
   "metadata": {},
   "source": [
    "+ ONS (Agarwal et al. 2006) aims to maximize the expected logarithmic cumulative wealth (approximated using historical price relatives) and to minimize the variation of the expected portfolio.  \n",
    "+ ONS exploits the second order information of the log wealth function and applies it to the online scenario. "
   ]
  },
  {
   "cell_type": "markdown",
   "metadata": {},
   "source": [
    "Regret: $O(m log n)$ <br>\n",
    "Running time complexity: $O(m^3n)$"
   ]
  },
  {
   "cell_type": "markdown",
   "metadata": {},
   "source": [
    "#### 3.3.4 Anti-Correlation (anticor)"
   ]
  },
  {
   "cell_type": "markdown",
   "metadata": {},
   "source": [
    "Greedy algorithm"
   ]
  },
  {
   "cell_type": "markdown",
   "metadata": {},
   "source": [
    "This idea was followed by Borodin et al. (2004). Unlike the regret minimization approaches, Anticor motivation is to bet on the consistency of positive lagged cross-correlation and negative autocorrelation. It exploits the statistical information from the historical stock price relatives and adopt the classical mean reversion trading idea to transfer the wealth in the portfolio."
   ]
  },
  {
   "cell_type": "markdown",
   "metadata": {},
   "source": [
    "### 3.4 Analysis of existing work"
   ]
  },
  {
   "cell_type": "markdown",
   "metadata": {},
   "source": [
    "#### 3.4.1 Trend following - momentum strategy"
   ]
  },
  {
   "cell_type": "markdown",
   "metadata": {},
   "source": [
    "+ Assumes that historically better-performing stocks would still perform better than others in future. \n",
    "+ Example algorithms: EG, ONS: approximate the expected logarithmic daily return and logarithmic cumulative return respectively using historical price relatives. => hard to implement effectively.\n",
    "+ <b> In the short-term, the stock price relatives may not follow previous trends as emperically evidenced by Jegadeesh (1990) and Lo and MacKinlay (1990)."
   ]
  },
  {
   "cell_type": "markdown",
   "metadata": {},
   "source": [
    "#### 3.4.2 Mean reversion"
   ]
  },
  {
   "cell_type": "markdown",
   "metadata": {},
   "source": [
    "+ Cover and Gluss 1986; Cover 1991; Borodin et al. 2004\n",
    "+ stems from the CRP strategy (Cover and Gluss 1986), which rebalances to the initial portfolio every trading day. \n",
    "+ Idea: if one stock performs worse than others, it tends to perform better than others in the next trading day. \"Sell the winner, buy the loser\"\n",
    "+ Example algorithms: CRP, UP and Anticor"
   ]
  },
  {
   "cell_type": "markdown",
   "metadata": {},
   "source": [
    "#### 3.4.3 Pattern matching based nonparametric learning algorithm ($B^K and B^{NN})$"
   ]
  },
  {
   "cell_type": "markdown",
   "metadata": {},
   "source": [
    "+ The approaches can identify many market conditions including both mean reversion and trend following.\n",
    "+ However, when locating similar price relatives, the nonparametric learning approaches may locate both mean reversion and tren following price relatives, whose patterns are essentially opposite, thus weakening the maximization of the expected cumulative wealth."
   ]
  },
  {
   "cell_type": "markdown",
   "metadata": {},
   "source": [
    "## 4. PARM"
   ]
  },
  {
   "cell_type": "markdown",
   "metadata": {},
   "source": [
    "### 4.1 Intuition"
   ]
  },
  {
   "cell_type": "markdown",
   "metadata": {},
   "source": [
    "Motivations:\n",
    "+ PARM is motivated by Constant Rebalanced Portfolios (Cover and Gluss 1986). \n",
    "+ The fact that in financial crisis, all stocks drop synchronously or certian stocks drop significantly."
   ]
  },
  {
   "cell_type": "code",
   "execution_count": null,
   "metadata": {},
   "outputs": [],
   "source": [
    "`"
   ]
  }
 ],
 "metadata": {
  "kernelspec": {
   "display_name": "Python 3",
   "language": "python",
   "name": "python3"
  },
  "language_info": {
   "codemirror_mode": {
    "name": "ipython",
    "version": 3
   },
   "file_extension": ".py",
   "mimetype": "text/x-python",
   "name": "python",
   "nbconvert_exporter": "python",
   "pygments_lexer": "ipython3",
   "version": "3.7.1"
  }
 },
 "nbformat": 4,
 "nbformat_minor": 2
}
