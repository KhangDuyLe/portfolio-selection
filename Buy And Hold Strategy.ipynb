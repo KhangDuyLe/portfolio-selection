{
 "cells": [
  {
   "cell_type": "code",
   "execution_count": 42,
   "metadata": {},
   "outputs": [],
   "source": [
    "import numpy as np \n",
    "import pandas as pd\n"
   ]
  },
  {
   "cell_type": "code",
   "execution_count": 43,
   "metadata": {},
   "outputs": [],
   "source": [
    "from Algorithms import bah"
   ]
  },
  {
   "cell_type": "code",
   "execution_count": 44,
   "metadata": {},
   "outputs": [],
   "source": [
    "dataInfo = {\n",
    "        \"nyse_o\":\"./data/nyse_o.pkl\",\n",
    "        \"nyse_n\":\"./data/nyse_n.pkl\",\n",
    "        \"tse\": \"./data/tse.pkl\",\n",
    "        \"sp500\": \"./data/sp500.pkl\",\n",
    "        \"msci\": \"./data/msci.pkl\",\n",
    "        \"djia\": \"./data/djia.pkl\"\n",
    "        }\n",
    "data = {}\n",
    "ret = {}"
   ]
  },
  {
   "cell_type": "code",
   "execution_count": 45,
   "metadata": {},
   "outputs": [],
   "source": [
    "def preprocess(df):\n",
    "    S = df/df.shift(1).fillna(method='ffill')\n",
    "    S.drop(0, axis=0, inplace=True)\n",
    "    return S"
   ]
  },
  {
   "cell_type": "code",
   "execution_count": 46,
   "metadata": {},
   "outputs": [],
   "source": [
    "for i in dataInfo:\n",
    "    data[i] = preprocess(pd.read_pickle(dataInfo[i]))"
   ]
  },
  {
   "cell_type": "code",
   "execution_count": 47,
   "metadata": {},
   "outputs": [
    {
     "name": "stdout",
     "output_type": "stream",
     "text": [
      "0.497391939163208\n",
      "nyse_o :  14.211137593562736\n",
      "0.6324806213378906\n",
      "nyse_n :  18.230572250873127\n",
      "0.14464926719665527\n",
      "tse :  1.596409523689914\n",
      "0.12528204917907715\n",
      "sp500 :  1.3327594954643707\n",
      "0.08928585052490234\n",
      "msci :  0.8986278670463737\n",
      "0.0459897518157959\n",
      "djia :  0.763539463191422\n"
     ]
    }
   ],
   "source": [
    "for data_name in data:\n",
    "    print(data_name,\": \",bah.run(data[data_name]) )"
   ]
  },
  {
   "cell_type": "code",
   "execution_count": 25,
   "metadata": {},
   "outputs": [
    {
     "name": "stdout",
     "output_type": "stream",
     "text": [
      "Cumulative wealth:  0.763539463191422\n"
     ]
    }
   ],
   "source": [
    "print(\"Cumulative wealth : \",ret)"
   ]
  },
  {
   "cell_type": "code",
   "execution_count": 2,
   "metadata": {},
   "outputs": [
    {
     "data": {
      "text/plain": [
       "2"
      ]
     },
     "execution_count": 2,
     "metadata": {},
     "output_type": "execute_result"
    }
   ],
   "source": [
    "5//2"
   ]
  },
  {
   "cell_type": "code",
   "execution_count": null,
   "metadata": {},
   "outputs": [],
   "source": []
  }
 ],
 "metadata": {
  "kernelspec": {
   "display_name": "Python 3",
   "language": "python",
   "name": "python3"
  },
  "language_info": {
   "codemirror_mode": {
    "name": "ipython",
    "version": 3
   },
   "file_extension": ".py",
   "mimetype": "text/x-python",
   "name": "python",
   "nbconvert_exporter": "python",
   "pygments_lexer": "ipython3",
   "version": "3.7.1"
  }
 },
 "nbformat": 4,
 "nbformat_minor": 2
}
