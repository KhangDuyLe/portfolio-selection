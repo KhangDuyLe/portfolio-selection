{
 "cells": [
  {
   "cell_type": "code",
   "execution_count": 8,
   "metadata": {},
   "outputs": [],
   "source": [
    "import pandas as pd \n",
    "import numpy as np \n",
    "import scipy.optimize as opt\n"
   ]
  },
  {
   "cell_type": "code",
   "execution_count": 2,
   "metadata": {},
   "outputs": [],
   "source": [
    "dataInfo = {\n",
    "        \"nyse_o\":\"./data/nyse_o.pkl\",\n",
    "        \"nyse_n\":\"./data/nyse_n.pkl\",\n",
    "        \"tse\": \"./data/tse.pkl\",\n",
    "        \"sp500\": \"./data/sp500.pkl\",\n",
    "        \"msci\": \"./data/msci.pkl\",\n",
    "        \"djia\": \"./data/djia.pkl\"\n",
    "        }\n",
    "data = {}\n",
    "ret = {}"
   ]
  },
  {
   "cell_type": "code",
   "execution_count": 3,
   "metadata": {},
   "outputs": [],
   "source": [
    "def preprocess(df):\n",
    "    S = df/df.shift(1).fillna(method='ffill')\n",
    "    S.drop(0, axis=0, inplace=True)\n",
    "    return S"
   ]
  },
  {
   "cell_type": "code",
   "execution_count": 4,
   "metadata": {},
   "outputs": [],
   "source": [
    "for i in dataInfo:\n",
    "    data[i] = preprocess(pd.read_pickle(dataInfo[i]))"
   ]
  },
  {
   "cell_type": "code",
   "execution_count": 5,
   "metadata": {},
   "outputs": [],
   "source": [
    "n ,m  = data[\"nyse_o\"].shape"
   ]
  },
  {
   "cell_type": "code",
   "execution_count": 9,
   "metadata": {},
   "outputs": [],
   "source": [
    "b = np.ones((1,m))/m"
   ]
  },
  {
   "cell_type": "code",
   "execution_count": 25,
   "metadata": {},
   "outputs": [
    {
     "data": {
      "text/plain": [
       "     fun: -248.54631821390197\n",
       "     jac: array([-1403933.85080147, -1403717.6403923 , -1403970.04470825,\n",
       "       -1404060.45463943, -1403951.73042107, -1404345.19221687,\n",
       "       -1403861.42106819, -1403569.6633625 , -1404345.37695503,\n",
       "       -1403931.20352936, -1403958.35295868, -1403808.64992523,\n",
       "       -1403803.68321419, -1403760.8753376 , -1403796.45007706,\n",
       "       -1404296.24167252, -1404272.66718483, -1403907.31762886,\n",
       "       -1403700.62685204, -1404342.67709923, -1404035.93670082,\n",
       "       -1403898.56077957, -1404348.40996933, -1403779.24953461,\n",
       "       -1403854.55469704, -1404344.55535698, -1403968.28351021,\n",
       "       -1403730.66017723, -1404023.41508293, -1404312.04924202,\n",
       "       -1403756.87166786, -1404036.94591904, -1404302.79707909,\n",
       "       -1403667.54406929, -1403846.35087013, -1403734.79491806])\n",
       " message: 'Optimization terminated successfully.'\n",
       "    nfev: 683\n",
       "     nit: 16\n",
       "    njev: 16\n",
       "  status: 0\n",
       " success: True\n",
       "       x: array([5.98404045e-10, 4.86616726e-09, 8.61245853e-14, 1.45307732e-12,\n",
       "       2.13878605e-10, 2.68565426e-01, 2.00072686e-09, 7.83672397e-09,\n",
       "       1.90423672e-01, 6.44503389e-10, 3.96661654e-11, 3.10355178e-09,\n",
       "       3.16283477e-09, 4.04356844e-09, 3.26540295e-09, 4.76378585e-12,\n",
       "       4.51921603e-12, 1.18160211e-09, 5.25822363e-09, 9.55879794e-02,\n",
       "       1.03086207e-12, 1.26855412e-09, 2.56331501e-01, 3.62735223e-09,\n",
       "       2.16202104e-09, 1.89091390e-01, 6.11660173e-14, 4.62980816e-09,\n",
       "       8.64765550e-13, 5.06625528e-12, 4.12590155e-09, 1.08547201e-12,\n",
       "       4.91304713e-12, 5.85538038e-09, 2.35980576e-09, 4.55541583e-09])"
      ]
     },
     "execution_count": 25,
     "metadata": {},
     "output_type": "execute_result"
    }
   ],
   "source": [
    "def objective(b):\n",
    "#         temp = np.ones((m,1))\n",
    "        S0= 1\n",
    "        for t in range(n):\n",
    "#             print(S0)\n",
    "            S0 = S0*np.matmul(b,data[\"nyse_o\"].iloc[t,:].values.reshape(m,1))\n",
    "        return -S0[0]\n",
    "bb = [(0,1) for i in range(m)]\n",
    "bb =tuple(bb)\n",
    "cons1 = {'type':'eq','fun': lambda b: np.sum(b)-1}\n",
    "cons = [cons1]\n",
    "opt.minimize(objective, b.flatten(), bounds=bb, method= 'SLSQP', constraints=cons )"
   ]
  },
  {
   "cell_type": "code",
   "execution_count": 11,
   "metadata": {},
   "outputs": [],
   "source": [
    "S0 = 1\n",
    "S0 = S0*np.matmul(b,data[\"nyse_o\"].iloc[0,:].values.reshape(m,1))"
   ]
  },
  {
   "cell_type": "code",
   "execution_count": 18,
   "metadata": {},
   "outputs": [
    {
     "data": {
      "text/plain": [
       "1.0047238888888887"
      ]
     },
     "execution_count": 18,
     "metadata": {},
     "output_type": "execute_result"
    }
   ],
   "source": []
  },
  {
   "cell_type": "code",
   "execution_count": null,
   "metadata": {},
   "outputs": [],
   "source": []
  }
 ],
 "metadata": {
  "kernelspec": {
   "display_name": "Python 3",
   "language": "python",
   "name": "python3"
  },
  "language_info": {
   "codemirror_mode": {
    "name": "ipython",
    "version": 3
   },
   "file_extension": ".py",
   "mimetype": "text/x-python",
   "name": "python",
   "nbconvert_exporter": "python",
   "pygments_lexer": "ipython3",
   "version": "3.7.1"
  }
 },
 "nbformat": 4,
 "nbformat_minor": 2
}
