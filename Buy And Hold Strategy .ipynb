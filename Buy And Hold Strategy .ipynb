{
 "cells": [
  {
   "cell_type": "code",
   "execution_count": 42,
   "metadata": {},
   "outputs": [],
   "source": [
    "import numpy as np \n",
    "import pandas as pd\n"
   ]
  },
  {
   "cell_type": "code",
   "execution_count": 43,
   "metadata": {},
   "outputs": [],
   "source": [
    "from Algorithms import bah"
   ]
  },
  {
   "cell_type": "code",
   "execution_count": 44,
   "metadata": {},
   "outputs": [],
   "source": [
    "dataInfo = {\n",
    "        \"nyse_o\":\"./data/nyse_o.pkl\",\n",
    "        \"nyse_n\":\"./data/nyse_n.pkl\",\n",
    "        \"tse\": \"./data/tse.pkl\",\n",
    "        \"sp500\": \"./data/sp500.pkl\",\n",
    "        \"msci\": \"./data/msci.pkl\",\n",
    "        \"djia\": \"./data/djia.pkl\"\n",
    "        }\n",
    "data = {}\n",
    "ret = {}"
   ]
  },
  {
   "cell_type": "code",
   "execution_count": null,
   "metadata": {},
   "outputs": [],
   "source": []
  },
  {
   "cell_type": "code",
   "execution_count": 66,
   "metadata": {},
   "outputs": [
    {
     "ename": "SyntaxError",
     "evalue": "invalid syntax (<ipython-input-66-8bebb035f9ef>, line 6)",
     "output_type": "error",
     "traceback": [
      "\u001b[0;36m  File \u001b[0;32m\"<ipython-input-66-8bebb035f9ef>\"\u001b[0;36m, line \u001b[0;32m6\u001b[0m\n\u001b[0;31m    for name, s in X./iteritems():\u001b[0m\n\u001b[0m                     ^\u001b[0m\n\u001b[0;31mSyntaxError\u001b[0m\u001b[0;31m:\u001b[0m invalid syntax\n"
     ]
    }
   ],
   "source": [
    "def preprocess(S):\n",
    "#     S = df/df.shift(1).fillna(method='ffill')\n",
    "#     S.drop(0, axis=0, inplace=True)\n",
    "#     return S\n",
    "    X = S / S.shift(1).fillna(method='ffill')\n",
    "    for name, s in X./iteritems():\n",
    "#     print(name,s.index.get_loc(s.first_valid_index()))\n",
    "        X[name].iloc[s.index.get_loc(s.first_valid_index()) - 1] = 1.\n",
    "    return X"
   ]
  },
  {
   "cell_type": "code",
   "execution_count": 60,
   "metadata": {},
   "outputs": [],
   "source": [
    "for i in dataInfo:\n",
    "    data[i] = preprocess(pd.read_pickle(dataInfo[i]))"
   ]
  },
  {
   "cell_type": "code",
   "execution_count": 61,
   "metadata": {},
   "outputs": [],
   "source": [
    "S = data[\"nyse_o\"]"
   ]
  },
  {
   "cell_type": "code",
   "execution_count": null,
   "metadata": {},
   "outputs": [],
   "source": []
  },
  {
   "cell_type": "code",
   "execution_count": 64,
   "metadata": {},
   "outputs": [
    {
     "name": "stdout",
     "output_type": "stream",
     "text": [
      "0.5275571346282959\n",
      "nyse_o :  1.0012774444612589\n",
      "0.6054856777191162\n",
      "nyse_n :  1.0012774444612589\n",
      "0.5031421184539795\n",
      "tse :  1.0012774444612589\n",
      "0.5065610408782959\n",
      "sp500 :  1.0012774444612589\n",
      "0.5054490566253662\n",
      "msci :  1.0012774444612589\n",
      "0.4964108467102051\n",
      "djia :  1.0012774444612589\n"
     ]
    }
   ],
   "source": [
    "for data_name in data:\n",
    "    print(data_name,\": \",bah.run(data[data_name]) )"
   ]
  },
  {
   "cell_type": "code",
   "execution_count": 25,
   "metadata": {},
   "outputs": [
    {
     "name": "stdout",
     "output_type": "stream",
     "text": [
      "Cumulative wealth:  0.763539463191422\n"
     ]
    }
   ],
   "source": [
    "print(\"Cumulative wealth : \",ret)"
   ]
  },
  {
   "cell_type": "code",
   "execution_count": 58,
   "metadata": {},
   "outputs": [
    {
     "name": "stdout",
     "output_type": "stream",
     "text": [
      "0.5039889812469482\n"
     ]
    },
    {
     "data": {
      "text/plain": [
       "1.0012774444612589"
      ]
     },
     "execution_count": 58,
     "metadata": {},
     "output_type": "execute_result"
    }
   ],
   "source": [
    "bah.run(X)"
   ]
  },
  {
   "cell_type": "code",
   "execution_count": null,
   "metadata": {},
   "outputs": [],
   "source": []
  }
 ],
 "metadata": {
  "kernelspec": {
   "display_name": "Python 3",
   "language": "python",
   "name": "python3"
  },
  "language_info": {
   "codemirror_mode": {
    "name": "ipython",
    "version": 3
   },
   "file_extension": ".py",
   "mimetype": "text/x-python",
   "name": "python",
   "nbconvert_exporter": "python",
   "pygments_lexer": "ipython3",
   "version": "3.7.1"
  }
 },
 "nbformat": 4,
 "nbformat_minor": 2
}
