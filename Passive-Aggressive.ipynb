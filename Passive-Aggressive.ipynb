{
 "cells": [
  {
   "cell_type": "markdown",
   "metadata": {},
   "source": [
    "# ONLINE PASSIVE AGGRESSIVE ALGORITHMS"
   ]
  },
  {
   "cell_type": "markdown",
   "metadata": {},
   "source": [
    "Koby Crammer. Online Passive-Aggressive Algorithms. Journal of Machine Learning Research 7 (2006) 551–585  <br>\n",
    "http://jmlr.csail.mit.edu/papers/volume7/crammer06a/crammer06a.pdf"
   ]
  },
  {
   "cell_type": "markdown",
   "metadata": {},
   "source": [
    "## 1.  Online learning"
   ]
  },
  {
   "cell_type": "markdown",
   "metadata": {},
   "source": [
    "+ First introduce a simple online algorithm which is called Passive-Aggressive (PA) for online binary classification (Herbster 2001).\n",
    "+ propose two alternative modifications to the PA algorithm which improve the algorithm’s ability to cope with noise"
   ]
  },
  {
   "cell_type": "markdown",
   "metadata": {},
   "source": [
    "+ In the online setting, a learning algorithm observes instances in a sequential manner. After each observation, the algorithm predicts an outcome. \n",
    "+ Once the algorithm has made a prediction, it receives feedback indicating the correct outcome.\n",
    "+ Then, the online algorithm may modify its prediction mechanism, presumably improving the chances of making an accurate prediction on subsequent rounds. \n",
    "+ Online algorithms are typically simple to implement and their analysis often provides tight bounds on their performance (see for instance Kivinen and Warmuth (1997))."
   ]
  },
  {
   "cell_type": "markdown",
   "metadata": {},
   "source": [
    "## 2. Binary Classification Algorithm"
   ]
  },
  {
   "cell_type": "markdown",
   "metadata": {},
   "source": [
    "\n",
    "The motivation for this update stems from the work of Helmbold et al. (Helmbold et al., 1999)\n",
    "who formalized the trade-off between the amount of progress made on each round and the amount\n",
    "of information retained from previous rounds"
   ]
  },
  {
   "cell_type": "markdown",
   "metadata": {},
   "source": [
    "On one hand, our update requires wt+1 to correctly classify the current example with a sufficiently high margin and thus progress is made. On the other hand, wt+1 must stay as close as possible to wt, thus retaining the information learned on previous rounds."
   ]
  },
  {
   "cell_type": "markdown",
   "metadata": {},
   "source": [
    " the PA algorithm employs an aggressive update strategy by modifying the\n",
    "weight vector by as much as needed to satisfy the constraint imposed by the current example."
   ]
  },
  {
   "cell_type": "markdown",
   "metadata": {},
   "source": [
    "A mislabeled example may cause the PA algorithm to drastically change its weight vector in the wrong direction. A single mislabeled example\n",
    "can lead to several prediction mistakes on subsequent round"
   ]
  },
  {
   "cell_type": "markdown",
   "metadata": {},
   "source": [
    "## 3. Linear Algorithm"
   ]
  },
  {
   "cell_type": "code",
   "execution_count": null,
   "metadata": {},
   "outputs": [],
   "source": []
  }
 ],
 "metadata": {
  "kernelspec": {
   "display_name": "Python 3",
   "language": "python",
   "name": "python3"
  },
  "language_info": {
   "codemirror_mode": {
    "name": "ipython",
    "version": 3
   },
   "file_extension": ".py",
   "mimetype": "text/x-python",
   "name": "python",
   "nbconvert_exporter": "python",
   "pygments_lexer": "ipython3",
   "version": "3.7.1"
  }
 },
 "nbformat": 4,
 "nbformat_minor": 2
}
