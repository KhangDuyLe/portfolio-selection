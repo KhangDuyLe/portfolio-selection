{
 "cells": [
  {
   "cell_type": "markdown",
   "metadata": {},
   "source": [
    "# SIMPLEX PROJECTION"
   ]
  },
  {
   "cell_type": "markdown",
   "metadata": {},
   "source": [
    "https://stanford.edu/~jduchi/projects/DuchiShSiCh08.pdf"
   ]
  },
  {
   "cell_type": "code",
   "execution_count": 2,
   "metadata": {},
   "outputs": [],
   "source": [
    "import numpy as np"
   ]
  },
  {
   "cell_type": "code",
   "execution_count": 7,
   "metadata": {},
   "outputs": [
    {
     "name": "stdout",
     "output_type": "stream",
     "text": [
      "[0.41330133 0.42111514 0.97167815 0.30322349 0.55563783 0.84192529\n",
      " 0.70321137 0.60737549 0.88059923 0.07859096]\n"
     ]
    }
   ],
   "source": [
    "a = np.random.random(10)\n",
    "print(a)"
   ]
  },
  {
   "cell_type": "code",
   "execution_count": 15,
   "metadata": {},
   "outputs": [
    {
     "data": {
      "text/plain": [
       "array([0.97167815, 1.85227739, 2.69420268, 3.39741405, 4.00478954,\n",
       "       4.56042736, 4.9815425 , 5.39484383, 5.69806732, 5.77665828])"
      ]
     },
     "execution_count": 15,
     "metadata": {},
     "output_type": "execute_result"
    }
   ],
   "source": [
    "u = np.sort(a)[::-1]\n",
    "np.cumsum(u)"
   ]
  },
  {
   "cell_type": "code",
   "execution_count": 29,
   "metadata": {},
   "outputs": [],
   "source": [
    "s = 1\n",
    "n = len(a)\n",
    "# get the array of cumulative sums of a sorted (decreasing) copy of v\n",
    "u = np.sort(a)[::-1]\n",
    "cssv = np.cumsum(u)\n",
    "# get the number of > 0 components of the optimal solution\n",
    "rho = np.nonzero(u * np.arange(1, n+1) > (cssv - s))[0][-1]\n",
    "# compute the Lagrange multiplier associated to the simplex constraint\n",
    "theta = float(cssv[rho] - s) / rho\n",
    "# compute the projection by thresholding v using theta\n",
    "w = (a - theta).clip(min=0)"
   ]
  },
  {
   "cell_type": "code",
   "execution_count": 31,
   "metadata": {},
   "outputs": [
    {
     "data": {
      "text/plain": [
       "array([0.        , 0.        , 0.22048077, 0.        , 0.        ,\n",
       "       0.09072791, 0.        , 0.        , 0.12940185, 0.        ])"
      ]
     },
     "execution_count": 31,
     "metadata": {},
     "output_type": "execute_result"
    }
   ],
   "source": [
    "w"
   ]
  },
  {
   "cell_type": "code",
   "execution_count": 25,
   "metadata": {},
   "outputs": [],
   "source": [
    "def simplex_proj(y):\n",
    "    \"\"\" Projection of y onto simplex. \"\"\"\n",
    "    m = len(y)\n",
    "    bget = False\n",
    "\n",
    "    s = sorted(y, reverse=True)\n",
    "    tmpsum = 0.\n",
    "\n",
    "    for ii in range(m-1):\n",
    "        tmpsum = tmpsum + s[ii]\n",
    "        tmax = (tmpsum - 1) / (ii + 1);\n",
    "        if tmax >= s[ii+1]:\n",
    "            bget = True\n",
    "            break\n",
    "\n",
    "    if not bget:\n",
    "        tmax = (tmpsum + s[m-1] -1)/m\n",
    "\n",
    "    return np.maximum(y-tmax,0.)\n"
   ]
  },
  {
   "cell_type": "code",
   "execution_count": 28,
   "metadata": {},
   "outputs": [
    {
     "data": {
      "text/plain": [
       "array([0.        , 0.        , 0.37072025, 0.        , 0.        ,\n",
       "       0.24096738, 0.10225346, 0.00641758, 0.27964133, 0.        ])"
      ]
     },
     "execution_count": 28,
     "metadata": {},
     "output_type": "execute_result"
    }
   ],
   "source": [
    "simplex_proj(a)"
   ]
  },
  {
   "cell_type": "code",
   "execution_count": 36,
   "metadata": {},
   "outputs": [
    {
     "data": {
      "text/plain": [
       "array([0.97167815, 0.88059923, 0.84192529, 0.70321137, 0.60737549,\n",
       "       0.55563783, 0.42111514, 0.41330133, 0.30322349, 0.07859096])"
      ]
     },
     "execution_count": 36,
     "metadata": {},
     "output_type": "execute_result"
    }
   ],
   "source": [
    "u.clip(min = 0)"
   ]
  },
  {
   "cell_type": "code",
   "execution_count": null,
   "metadata": {},
   "outputs": [],
   "source": []
  }
 ],
 "metadata": {
  "kernelspec": {
   "display_name": "Python 3",
   "language": "python",
   "name": "python3"
  },
  "language_info": {
   "codemirror_mode": {
    "name": "ipython",
    "version": 3
   },
   "file_extension": ".py",
   "mimetype": "text/x-python",
   "name": "python",
   "nbconvert_exporter": "python",
   "pygments_lexer": "ipython3",
   "version": "3.7.1"
  }
 },
 "nbformat": 4,
 "nbformat_minor": 2
}
